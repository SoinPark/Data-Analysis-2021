{
 "metadata": {
  "language_info": {
   "codemirror_mode": {
    "name": "ipython",
    "version": 3
   },
   "file_extension": ".py",
   "mimetype": "text/x-python",
   "name": "python",
   "nbconvert_exporter": "python",
   "pygments_lexer": "ipython3",
   "version": "3.8.5"
  },
  "orig_nbformat": 2,
  "kernelspec": {
   "name": "python385jvsc74a57bd08c1eae21719a0790335dcb83aad72b63b602cfe5cdb2bda0f60bc11d4f154e4b",
   "display_name": "Python 3.8.5 64-bit ('base': conda)"
  }
 },
 "nbformat": 4,
 "nbformat_minor": 2,
 "cells": [
  {
   "source": [
    "# 서울시 주요 공원현황"
   ],
   "cell_type": "markdown",
   "metadata": {}
  },
  {
   "cell_type": "code",
   "execution_count": 10,
   "metadata": {},
   "outputs": [],
   "source": [
    "import requests\n",
    "from urllib.parse import quote\n",
    "import pandas as pd\n",
    "import folium\n",
    "import numpy as np\n",
    "import matplotlib as mapl\n",
    "import matplotlib.pyplot as plt\n",
    "%matplotlib inline"
   ]
  },
  {
   "cell_type": "code",
   "execution_count": null,
   "metadata": {},
   "outputs": [],
   "source": [
    "mpl.rc('font', family='Malgun Gothic')"
   ]
  },
  {
   "cell_type": "code",
   "execution_count": 8,
   "metadata": {},
   "outputs": [
    {
     "output_type": "execute_result",
     "data": {
      "text/plain": [
       "                 공원명                           공원주소  X좌표(WGS84)  Y좌표(WGS84)\n",
       "0           남산도시자연공원         서울특별시 중구 삼일대로 231(예장동)  126.990377   37.550140\n",
       "1             길동생태공원   서울특별시 강동구 천호대로 1291(길동생태공원)   127.154779   37.540394\n",
       "2              서울대공원             경기도 과천시 대공원광장로 102  127.019846   37.426449\n",
       "3                서울숲     서울특별시 성동구 뚝섬로 273 (성수동1가)   127.041798   37.543072\n",
       "4              월드컵공원      서울특별시 마포구 하늘공원로 84(월드컵공원)  126.878907   37.571805\n",
       "..               ...                            ...         ...         ...\n",
       "127  용마도시자연공원(사가정공원)             서울 중랑구 면목동 산 50-15  127.095997   37.579762\n",
       "128           문화비축기지               서울특별시 마포구 증산로 87  126.893246   37.571718\n",
       "129            경춘선숲길                 서울 노원구 공릉동 706  127.076482   37.627077\n",
       "130             율현공원  서울특별시 강남구 율현동 밤고개로24길(율현동 56)  127.115594   37.472332\n",
       "131          서울로7017                   서울 중구 퇴계로 33         NaN         NaN\n",
       "\n",
       "[132 rows x 4 columns]"
      ],
      "text/html": "<div>\n<style scoped>\n    .dataframe tbody tr th:only-of-type {\n        vertical-align: middle;\n    }\n\n    .dataframe tbody tr th {\n        vertical-align: top;\n    }\n\n    .dataframe thead th {\n        text-align: right;\n    }\n</style>\n<table border=\"1\" class=\"dataframe\">\n  <thead>\n    <tr style=\"text-align: right;\">\n      <th></th>\n      <th>공원명</th>\n      <th>공원주소</th>\n      <th>X좌표(WGS84)</th>\n      <th>Y좌표(WGS84)</th>\n    </tr>\n  </thead>\n  <tbody>\n    <tr>\n      <th>0</th>\n      <td>남산도시자연공원</td>\n      <td>서울특별시 중구 삼일대로 231(예장동)</td>\n      <td>126.990377</td>\n      <td>37.550140</td>\n    </tr>\n    <tr>\n      <th>1</th>\n      <td>길동생태공원</td>\n      <td>서울특별시 강동구 천호대로 1291(길동생태공원)</td>\n      <td>127.154779</td>\n      <td>37.540394</td>\n    </tr>\n    <tr>\n      <th>2</th>\n      <td>서울대공원</td>\n      <td>경기도 과천시 대공원광장로 102</td>\n      <td>127.019846</td>\n      <td>37.426449</td>\n    </tr>\n    <tr>\n      <th>3</th>\n      <td>서울숲</td>\n      <td>서울특별시 성동구 뚝섬로 273 (성수동1가)</td>\n      <td>127.041798</td>\n      <td>37.543072</td>\n    </tr>\n    <tr>\n      <th>4</th>\n      <td>월드컵공원</td>\n      <td>서울특별시 마포구 하늘공원로 84(월드컵공원)</td>\n      <td>126.878907</td>\n      <td>37.571805</td>\n    </tr>\n    <tr>\n      <th>...</th>\n      <td>...</td>\n      <td>...</td>\n      <td>...</td>\n      <td>...</td>\n    </tr>\n    <tr>\n      <th>127</th>\n      <td>용마도시자연공원(사가정공원)</td>\n      <td>서울 중랑구 면목동 산 50-15</td>\n      <td>127.095997</td>\n      <td>37.579762</td>\n    </tr>\n    <tr>\n      <th>128</th>\n      <td>문화비축기지</td>\n      <td>서울특별시 마포구 증산로 87</td>\n      <td>126.893246</td>\n      <td>37.571718</td>\n    </tr>\n    <tr>\n      <th>129</th>\n      <td>경춘선숲길</td>\n      <td>서울 노원구 공릉동 706</td>\n      <td>127.076482</td>\n      <td>37.627077</td>\n    </tr>\n    <tr>\n      <th>130</th>\n      <td>율현공원</td>\n      <td>서울특별시 강남구 율현동 밤고개로24길(율현동 56)</td>\n      <td>127.115594</td>\n      <td>37.472332</td>\n    </tr>\n    <tr>\n      <th>131</th>\n      <td>서울로7017</td>\n      <td>서울 중구 퇴계로 33</td>\n      <td>NaN</td>\n      <td>NaN</td>\n    </tr>\n  </tbody>\n</table>\n<p>132 rows × 4 columns</p>\n</div>"
     },
     "metadata": {},
     "execution_count": 8
    }
   ],
   "source": [
    "park = pd.read_csv('서울시 주요 공원현황(수정).csv')\n",
    "df = park[['공원명','공원주소','X좌표(WGS84)','Y좌표(WGS84)']]\n",
    "df"
   ]
  },
  {
   "cell_type": "code",
   "execution_count": null,
   "metadata": {},
   "outputs": [],
   "source": [
    "map = folium.Map(\n",
    "    location=[df['X좌표(WGS84)'].mean(), df['Y좌표(WGS84)'].mean()], zoom_start=13)\n",
    "\n",
    "for i in df.index:\n",
    "    url = 'https://dapi.kakao.com/v2/local/search/address.json'\n",
    "    folium.Maker(\n",
    "        location=[df['X좌표(WGS84)'][i], df['Y좌표(WGS84)'][i]],\n",
    "        tooltip=df['공원명'][i],\n",
    "\n",
    "    )"
   ]
  },
  {
   "source": [
    "### 강사님 풀이"
   ],
   "cell_type": "markdown",
   "metadata": {}
  },
  {
   "cell_type": "code",
   "execution_count": 11,
   "metadata": {},
   "outputs": [
    {
     "output_type": "execute_result",
     "data": {
      "text/plain": [
       "     공원번호              공원명                                               공원개요  \\\n",
       "0       1         남산도시자연공원  남산공원은 도심에 위치하여 서울시민에게 맑은 공기를 제공하는 자연휴식처이며 산책 꽃...   \n",
       "1       3           길동생태공원  길동생태공원은 생물의 서식처를 제공하고 종다양성을 증진시키며 자연생태계의 생물들을 ...   \n",
       "2       4            서울대공원  서울대공원은 세계 각국의 야생동물들이 살아 숨 쉬는 서울동물원과 다양한 재미와 즐거...   \n",
       "3       5              서울숲  당초 골프장 승마장 등이 있던 뚝섬일대를 주거업무 지역으로 개발할 경우 약 4조원에...   \n",
       "4       6            월드컵공원  월드컵공원은 서울의 서쪽에 위치하여 1978년부터 1993년까지 15년간 서울시민이...   \n",
       "..    ...              ...                                                ...   \n",
       "127  1378  용마도시자연공원(사가정공원)  2005년 4월 13일 개장한 사가정공원은 면목동 산 50번지 일대의 면목약수터지구...   \n",
       "128  1379           문화비축기지  매봉산자락에 위치한 문화비축기지는 폐산업시설인 '마포석유비축기지'를 재생하여 역사적...   \n",
       "129  1380            경춘선숲길  일제 강점기때 우리 민족의 자본으로 만든 최초의 철도시설로 1939년 7월 25일 ...   \n",
       "130  1381             율현공원  ? 율현공원은 보금자리주택 세곡2지구 사업의 결과물로 만들어졌다. 공원은 주택지구의...   \n",
       "131  1382          서울로7017  서울로7017은 70년대 준공된 서울역 고가가 안전에 문제점이 도출되면서 철거가 될...   \n",
       "\n",
       "                            면적         개원일  \\\n",
       "0    2896887㎡ 2454140㎡ 442747㎡   1968.9.10   \n",
       "1                       80683㎡   1999.5.20   \n",
       "2                     9132690㎡    1984.5.1   \n",
       "3                      480994㎡   2005.6.18   \n",
       "4                     2284085㎡    2002.5.1   \n",
       "..                         ...         ...   \n",
       "127                   109635㎡   2005.4.13    \n",
       "128                    140022㎡    2017.9.1   \n",
       "129                    211392㎡         NaN   \n",
       "130                    157535㎡   2016.11.1   \n",
       "131                        NaN         NaN   \n",
       "\n",
       "                                                  주요시설  \\\n",
       "0    기반시설 : 광장 45950㎡ 도로 108530㎡ 산책로 6.7㎞ (북측:3.7㎞/...   \n",
       "1                 탐방객안내소 야외전시대 관찰대 목재데크 조류관찰대 길동생태문화센터   \n",
       "2    동물원 식물원 테마가든(장미원 어린이동물원 피크닉장) 치유숲 산림욕장 캠핑장 국립현...   \n",
       "3    4개 테마공원: 문화예술공원 자연생태숲 자연체험학습원 습지생태원 주요시설: 가족마당...   \n",
       "4    평화의 공원 월드컵공원전시관(879㎡) 유니세프광장(2400㎡) 평화광장(5217㎡...   \n",
       "..                                                 ...   \n",
       "127                               피크닉장 놀이터 체력단련장 체육관     \n",
       "128                                     6개의탱크와 문화마당 녹지   \n",
       "129  조경시설 : 텃밭 잔디광장 철길 산책로 등 건축시설 : 무궁화호 객차(방문자센터) ...   \n",
       "130  관리시설 : 사무실 조경시설 : 정자(4개) 조형쉼터(10개) 조형파고라(3개) 수...   \n",
       "131                                                NaN   \n",
       "\n",
       "                                                  주요식물  \\\n",
       "0                    소나무 단풍 아카시아 상수리나무 등 191종 2881870주   \n",
       "1            소나무 보리수 등 64종 31800주 산국 부들 등 138종 192800본   \n",
       "2                                                  NaN   \n",
       "3    수 목 : 소나무 섬잣나무 계수나무 외 95종 415795주 식물원 : 선인장 등 ...   \n",
       "4                                                  NaN   \n",
       "..                                                 ...   \n",
       "127                                                NaN   \n",
       "128                                                NaN   \n",
       "129                                                NaN   \n",
       "130  수목 : 소나무 이팝나무 등  110종  143069주 초화 : 맥문동 벌개미취 등...   \n",
       "131                                                NaN   \n",
       "\n",
       "                                                   안내도  \\\n",
       "0    http://parks.seoul.go.kr/upload/seditorMulti/2...   \n",
       "1    http://parks.seoul.go.kr/template/common/img/p...   \n",
       "2                                                  NaN   \n",
       "3    http://parks.seoul.go.kr/template/common/img/p...   \n",
       "4    http://parks.seoul.go.kr/template/common/img/p...   \n",
       "..                                                 ...   \n",
       "127                                                NaN   \n",
       "128  http://parks.seoul.go.kr/upload/seditorMulti/2...   \n",
       "129                                                NaN   \n",
       "130  http://parks.seoul.go.kr/upload/seditorMulti/2...   \n",
       "131                                                NaN   \n",
       "\n",
       "                                                  오시는길  \\\n",
       "0    명동역(남산케이블카 와룡묘 서울애니메이션센터 방면) 도보 명동역 3번출구 → 퍼시픽...   \n",
       "1                                                  NaN   \n",
       "2    지하철 4호선 대공원역 하차(2번 출구) 도보 15분 정도 문의처 02)500-73...   \n",
       "3                                                  NaN   \n",
       "4    지하철 6호선 월드컵경기장역 하차 → 1번 출구로 나온 후 직진 → 큰길(도로)이 ...   \n",
       "..                                                 ...   \n",
       "127                                                NaN   \n",
       "128                                                NaN   \n",
       "129  지하철 이용시 지하철 7호선 하계역 4번출구 미성/장미아파트 도로 450m직진 지하...   \n",
       "130                                                NaN   \n",
       "131  중림 만리동(서울로 종점부에서 진입) 지하철- 충정로(경기대입구) - 2 5호선 :...   \n",
       "\n",
       "                                               이용시참고사항  \\\n",
       "0    남산공원 차량통행 금지안내 2005년 5월 1일부터 남산공원에 일반승용차 택시 통행...   \n",
       "1    매주 월요일은 휴관입니다 사전예약 후 입장하실 수 있습니다. ▶ 인터넷 예약 바로가...   \n",
       "2    일반사항 공원을 깨끗하게 이용합니다. 대중교통을 이용해 주세요. 기념물 시설물 풀과...   \n",
       "3    지하철 분당선 서울숲역 3번출구 도보로 약5분 2호선 뚝섬역 8번출구 도보로 약 1...   \n",
       "4    일반사항 공원을 깨끗하게 이용합니다. 대중교통을 이용해 주세요. 기념물 시설물 풀과...   \n",
       "..                                                 ...   \n",
       "127                                                NaN   \n",
       "128   ? 일반사항  - 공원은 연중무휴이나 전시관은 월요일 휴관입니다.   - 공원을 ...   \n",
       "129  ○ 6.3km   (시 작 점 : 육사삼거리   중간지점 : 화랑대사거리 → 화랑대...   \n",
       "130  공원 인근에 서울공항 활주로가 위치하고 있어 공원 내에서 드론을 날리거나 헬륨가스 ...   \n",
       "131                                                NaN   \n",
       "\n",
       "                                                   이미지   지역  \\\n",
       "0    http://parks.seoul.go.kr/file/info/view.do?fId...   중구   \n",
       "1    http://parks.seoul.go.kr/file/info/view.do?fId...  강동구   \n",
       "2    http://parks.seoul.go.kr/file/info/view.do?fId...  과천시   \n",
       "3    http://parks.seoul.go.kr/file/info/view.do?fId...  성동구   \n",
       "4    http://parks.seoul.go.kr/file/info/view.do?fId...  마포구   \n",
       "..                                                 ...  ...   \n",
       "127  http://parks.seoul.go.kr/file/info/view.do?fId...  중랑구   \n",
       "128  http://parks.seoul.go.kr/file/info/view.do?fId...  마포구   \n",
       "129  http://parks.seoul.go.kr/file/info/view.do?fId...  노원구   \n",
       "130  http://parks.seoul.go.kr/file/info/view.do?fId...  강남구   \n",
       "131  http://parks.seoul.go.kr/file/info/view.do?fId...   중구   \n",
       "\n",
       "                              공원주소              관리부서          전화번호  \\\n",
       "0           서울특별시 중구 삼일대로 231(예장동)    서울특별시중부푸른도시사업소  02-3783-5900   \n",
       "1     서울특별시 강동구 천호대로 1291(길동생태공원)   동부공원녹지사업소 길동생태공원   02-489-2770   \n",
       "2               경기도 과천시 대공원광장로 102             전략기획실   02-500-7032   \n",
       "3       서울특별시 성동구 뚝섬로 273 (성수동1가)          서울숲 관리사무소  02-460-2905    \n",
       "4        서울특별시 마포구 하늘공원로 84(월드컵공원)             월드컵공원   02-300-5500   \n",
       "..                             ...               ...           ...   \n",
       "127             서울 중랑구 면목동 산 50-15        중랑구청 공원녹지과  02-2094-2993   \n",
       "128               서울특별시 마포구 증산로 87            문화비축기지   02-376-8410   \n",
       "129                 서울 노원구 공릉동 706         중부공원녹지사업소  02-2289-4012   \n",
       "130  서울특별시 강남구 율현동 밤고개로24길(율현동 56)         동부공원녹지사업소   02-459-9452   \n",
       "131                   서울 중구 퇴계로 33            서울로운영단   02-313-7017   \n",
       "\n",
       "      X좌표(GRS80TM)  Y좌표(GRS80TM)  X좌표(WGS84)  Y좌표(WGS84)  \\\n",
       "0    198364.107000  4.503956e+05  126.990377   37.550140   \n",
       "1    213554.120000  4.488527e+05  127.154779   37.540394   \n",
       "2    200994.267000  4.371640e+05  127.019846   37.426449   \n",
       "3    203695.432000  4.492907e+05  127.041798   37.543072   \n",
       "4    190658.070000  4.515988e+05  126.878907   37.571805   \n",
       "..             ...           ...         ...         ...   \n",
       "127            NaN           NaN  127.095997   37.579762   \n",
       "128  114264.460400  3.712093e+06  126.893246   37.571718   \n",
       "129     127.076482  3.762708e+01  127.076482   37.627077   \n",
       "130            NaN           NaN  127.115594   37.472332   \n",
       "131            NaN           NaN         NaN         NaN   \n",
       "\n",
       "                                                  바로가기  \n",
       "0      http://parks.seoul.go.kr/template/sub/namsan.do  \n",
       "1     http://parks.seoul.go.kr/template/sub/gildong.do  \n",
       "2                        http://grandpark.seoul.go.kr/  \n",
       "3    http://parks.seoul.go.kr/template/sub/seoulfor...  \n",
       "4    http://parks.seoul.go.kr/template/sub/worldcup...  \n",
       "..                                                 ...  \n",
       "127                                                NaN  \n",
       "128  http://parks.seoul.go.kr/template/sub/culturet...  \n",
       "129                                                NaN  \n",
       "130                                                NaN  \n",
       "131                                                NaN  \n",
       "\n",
       "[132 rows x 20 columns]"
      ],
      "text/html": "<div>\n<style scoped>\n    .dataframe tbody tr th:only-of-type {\n        vertical-align: middle;\n    }\n\n    .dataframe tbody tr th {\n        vertical-align: top;\n    }\n\n    .dataframe thead th {\n        text-align: right;\n    }\n</style>\n<table border=\"1\" class=\"dataframe\">\n  <thead>\n    <tr style=\"text-align: right;\">\n      <th></th>\n      <th>공원번호</th>\n      <th>공원명</th>\n      <th>공원개요</th>\n      <th>면적</th>\n      <th>개원일</th>\n      <th>주요시설</th>\n      <th>주요식물</th>\n      <th>안내도</th>\n      <th>오시는길</th>\n      <th>이용시참고사항</th>\n      <th>이미지</th>\n      <th>지역</th>\n      <th>공원주소</th>\n      <th>관리부서</th>\n      <th>전화번호</th>\n      <th>X좌표(GRS80TM)</th>\n      <th>Y좌표(GRS80TM)</th>\n      <th>X좌표(WGS84)</th>\n      <th>Y좌표(WGS84)</th>\n      <th>바로가기</th>\n    </tr>\n  </thead>\n  <tbody>\n    <tr>\n      <th>0</th>\n      <td>1</td>\n      <td>남산도시자연공원</td>\n      <td>남산공원은 도심에 위치하여 서울시민에게 맑은 공기를 제공하는 자연휴식처이며 산책 꽃...</td>\n      <td>2896887㎡ 2454140㎡ 442747㎡</td>\n      <td>1968.9.10</td>\n      <td>기반시설 : 광장 45950㎡ 도로 108530㎡ 산책로 6.7㎞ (북측:3.7㎞/...</td>\n      <td>소나무 단풍 아카시아 상수리나무 등 191종 2881870주</td>\n      <td>http://parks.seoul.go.kr/upload/seditorMulti/2...</td>\n      <td>명동역(남산케이블카 와룡묘 서울애니메이션센터 방면) 도보 명동역 3번출구 → 퍼시픽...</td>\n      <td>남산공원 차량통행 금지안내 2005년 5월 1일부터 남산공원에 일반승용차 택시 통행...</td>\n      <td>http://parks.seoul.go.kr/file/info/view.do?fId...</td>\n      <td>중구</td>\n      <td>서울특별시 중구 삼일대로 231(예장동)</td>\n      <td>서울특별시중부푸른도시사업소</td>\n      <td>02-3783-5900</td>\n      <td>198364.107000</td>\n      <td>4.503956e+05</td>\n      <td>126.990377</td>\n      <td>37.550140</td>\n      <td>http://parks.seoul.go.kr/template/sub/namsan.do</td>\n    </tr>\n    <tr>\n      <th>1</th>\n      <td>3</td>\n      <td>길동생태공원</td>\n      <td>길동생태공원은 생물의 서식처를 제공하고 종다양성을 증진시키며 자연생태계의 생물들을 ...</td>\n      <td>80683㎡</td>\n      <td>1999.5.20</td>\n      <td>탐방객안내소 야외전시대 관찰대 목재데크 조류관찰대 길동생태문화센터</td>\n      <td>소나무 보리수 등 64종 31800주 산국 부들 등 138종 192800본</td>\n      <td>http://parks.seoul.go.kr/template/common/img/p...</td>\n      <td>NaN</td>\n      <td>매주 월요일은 휴관입니다 사전예약 후 입장하실 수 있습니다. ▶ 인터넷 예약 바로가...</td>\n      <td>http://parks.seoul.go.kr/file/info/view.do?fId...</td>\n      <td>강동구</td>\n      <td>서울특별시 강동구 천호대로 1291(길동생태공원)</td>\n      <td>동부공원녹지사업소 길동생태공원</td>\n      <td>02-489-2770</td>\n      <td>213554.120000</td>\n      <td>4.488527e+05</td>\n      <td>127.154779</td>\n      <td>37.540394</td>\n      <td>http://parks.seoul.go.kr/template/sub/gildong.do</td>\n    </tr>\n    <tr>\n      <th>2</th>\n      <td>4</td>\n      <td>서울대공원</td>\n      <td>서울대공원은 세계 각국의 야생동물들이 살아 숨 쉬는 서울동물원과 다양한 재미와 즐거...</td>\n      <td>9132690㎡</td>\n      <td>1984.5.1</td>\n      <td>동물원 식물원 테마가든(장미원 어린이동물원 피크닉장) 치유숲 산림욕장 캠핑장 국립현...</td>\n      <td>NaN</td>\n      <td>NaN</td>\n      <td>지하철 4호선 대공원역 하차(2번 출구) 도보 15분 정도 문의처 02)500-73...</td>\n      <td>일반사항 공원을 깨끗하게 이용합니다. 대중교통을 이용해 주세요. 기념물 시설물 풀과...</td>\n      <td>http://parks.seoul.go.kr/file/info/view.do?fId...</td>\n      <td>과천시</td>\n      <td>경기도 과천시 대공원광장로 102</td>\n      <td>전략기획실</td>\n      <td>02-500-7032</td>\n      <td>200994.267000</td>\n      <td>4.371640e+05</td>\n      <td>127.019846</td>\n      <td>37.426449</td>\n      <td>http://grandpark.seoul.go.kr/</td>\n    </tr>\n    <tr>\n      <th>3</th>\n      <td>5</td>\n      <td>서울숲</td>\n      <td>당초 골프장 승마장 등이 있던 뚝섬일대를 주거업무 지역으로 개발할 경우 약 4조원에...</td>\n      <td>480994㎡</td>\n      <td>2005.6.18</td>\n      <td>4개 테마공원: 문화예술공원 자연생태숲 자연체험학습원 습지생태원 주요시설: 가족마당...</td>\n      <td>수 목 : 소나무 섬잣나무 계수나무 외 95종 415795주 식물원 : 선인장 등 ...</td>\n      <td>http://parks.seoul.go.kr/template/common/img/p...</td>\n      <td>NaN</td>\n      <td>지하철 분당선 서울숲역 3번출구 도보로 약5분 2호선 뚝섬역 8번출구 도보로 약 1...</td>\n      <td>http://parks.seoul.go.kr/file/info/view.do?fId...</td>\n      <td>성동구</td>\n      <td>서울특별시 성동구 뚝섬로 273 (성수동1가)</td>\n      <td>서울숲 관리사무소</td>\n      <td>02-460-2905</td>\n      <td>203695.432000</td>\n      <td>4.492907e+05</td>\n      <td>127.041798</td>\n      <td>37.543072</td>\n      <td>http://parks.seoul.go.kr/template/sub/seoulfor...</td>\n    </tr>\n    <tr>\n      <th>4</th>\n      <td>6</td>\n      <td>월드컵공원</td>\n      <td>월드컵공원은 서울의 서쪽에 위치하여 1978년부터 1993년까지 15년간 서울시민이...</td>\n      <td>2284085㎡</td>\n      <td>2002.5.1</td>\n      <td>평화의 공원 월드컵공원전시관(879㎡) 유니세프광장(2400㎡) 평화광장(5217㎡...</td>\n      <td>NaN</td>\n      <td>http://parks.seoul.go.kr/template/common/img/p...</td>\n      <td>지하철 6호선 월드컵경기장역 하차 → 1번 출구로 나온 후 직진 → 큰길(도로)이 ...</td>\n      <td>일반사항 공원을 깨끗하게 이용합니다. 대중교통을 이용해 주세요. 기념물 시설물 풀과...</td>\n      <td>http://parks.seoul.go.kr/file/info/view.do?fId...</td>\n      <td>마포구</td>\n      <td>서울특별시 마포구 하늘공원로 84(월드컵공원)</td>\n      <td>월드컵공원</td>\n      <td>02-300-5500</td>\n      <td>190658.070000</td>\n      <td>4.515988e+05</td>\n      <td>126.878907</td>\n      <td>37.571805</td>\n      <td>http://parks.seoul.go.kr/template/sub/worldcup...</td>\n    </tr>\n    <tr>\n      <th>...</th>\n      <td>...</td>\n      <td>...</td>\n      <td>...</td>\n      <td>...</td>\n      <td>...</td>\n      <td>...</td>\n      <td>...</td>\n      <td>...</td>\n      <td>...</td>\n      <td>...</td>\n      <td>...</td>\n      <td>...</td>\n      <td>...</td>\n      <td>...</td>\n      <td>...</td>\n      <td>...</td>\n      <td>...</td>\n      <td>...</td>\n      <td>...</td>\n      <td>...</td>\n    </tr>\n    <tr>\n      <th>127</th>\n      <td>1378</td>\n      <td>용마도시자연공원(사가정공원)</td>\n      <td>2005년 4월 13일 개장한 사가정공원은 면목동 산 50번지 일대의 면목약수터지구...</td>\n      <td>109635㎡</td>\n      <td>2005.4.13</td>\n      <td>피크닉장 놀이터 체력단련장 체육관</td>\n      <td>NaN</td>\n      <td>NaN</td>\n      <td>NaN</td>\n      <td>NaN</td>\n      <td>http://parks.seoul.go.kr/file/info/view.do?fId...</td>\n      <td>중랑구</td>\n      <td>서울 중랑구 면목동 산 50-15</td>\n      <td>중랑구청 공원녹지과</td>\n      <td>02-2094-2993</td>\n      <td>NaN</td>\n      <td>NaN</td>\n      <td>127.095997</td>\n      <td>37.579762</td>\n      <td>NaN</td>\n    </tr>\n    <tr>\n      <th>128</th>\n      <td>1379</td>\n      <td>문화비축기지</td>\n      <td>매봉산자락에 위치한 문화비축기지는 폐산업시설인 '마포석유비축기지'를 재생하여 역사적...</td>\n      <td>140022㎡</td>\n      <td>2017.9.1</td>\n      <td>6개의탱크와 문화마당 녹지</td>\n      <td>NaN</td>\n      <td>http://parks.seoul.go.kr/upload/seditorMulti/2...</td>\n      <td>NaN</td>\n      <td>? 일반사항  - 공원은 연중무휴이나 전시관은 월요일 휴관입니다.   - 공원을 ...</td>\n      <td>http://parks.seoul.go.kr/file/info/view.do?fId...</td>\n      <td>마포구</td>\n      <td>서울특별시 마포구 증산로 87</td>\n      <td>문화비축기지</td>\n      <td>02-376-8410</td>\n      <td>114264.460400</td>\n      <td>3.712093e+06</td>\n      <td>126.893246</td>\n      <td>37.571718</td>\n      <td>http://parks.seoul.go.kr/template/sub/culturet...</td>\n    </tr>\n    <tr>\n      <th>129</th>\n      <td>1380</td>\n      <td>경춘선숲길</td>\n      <td>일제 강점기때 우리 민족의 자본으로 만든 최초의 철도시설로 1939년 7월 25일 ...</td>\n      <td>211392㎡</td>\n      <td>NaN</td>\n      <td>조경시설 : 텃밭 잔디광장 철길 산책로 등 건축시설 : 무궁화호 객차(방문자센터) ...</td>\n      <td>NaN</td>\n      <td>NaN</td>\n      <td>지하철 이용시 지하철 7호선 하계역 4번출구 미성/장미아파트 도로 450m직진 지하...</td>\n      <td>○ 6.3km   (시 작 점 : 육사삼거리   중간지점 : 화랑대사거리 → 화랑대...</td>\n      <td>http://parks.seoul.go.kr/file/info/view.do?fId...</td>\n      <td>노원구</td>\n      <td>서울 노원구 공릉동 706</td>\n      <td>중부공원녹지사업소</td>\n      <td>02-2289-4012</td>\n      <td>127.076482</td>\n      <td>3.762708e+01</td>\n      <td>127.076482</td>\n      <td>37.627077</td>\n      <td>NaN</td>\n    </tr>\n    <tr>\n      <th>130</th>\n      <td>1381</td>\n      <td>율현공원</td>\n      <td>? 율현공원은 보금자리주택 세곡2지구 사업의 결과물로 만들어졌다. 공원은 주택지구의...</td>\n      <td>157535㎡</td>\n      <td>2016.11.1</td>\n      <td>관리시설 : 사무실 조경시설 : 정자(4개) 조형쉼터(10개) 조형파고라(3개) 수...</td>\n      <td>수목 : 소나무 이팝나무 등  110종  143069주 초화 : 맥문동 벌개미취 등...</td>\n      <td>http://parks.seoul.go.kr/upload/seditorMulti/2...</td>\n      <td>NaN</td>\n      <td>공원 인근에 서울공항 활주로가 위치하고 있어 공원 내에서 드론을 날리거나 헬륨가스 ...</td>\n      <td>http://parks.seoul.go.kr/file/info/view.do?fId...</td>\n      <td>강남구</td>\n      <td>서울특별시 강남구 율현동 밤고개로24길(율현동 56)</td>\n      <td>동부공원녹지사업소</td>\n      <td>02-459-9452</td>\n      <td>NaN</td>\n      <td>NaN</td>\n      <td>127.115594</td>\n      <td>37.472332</td>\n      <td>NaN</td>\n    </tr>\n    <tr>\n      <th>131</th>\n      <td>1382</td>\n      <td>서울로7017</td>\n      <td>서울로7017은 70년대 준공된 서울역 고가가 안전에 문제점이 도출되면서 철거가 될...</td>\n      <td>NaN</td>\n      <td>NaN</td>\n      <td>NaN</td>\n      <td>NaN</td>\n      <td>NaN</td>\n      <td>중림 만리동(서울로 종점부에서 진입) 지하철- 충정로(경기대입구) - 2 5호선 :...</td>\n      <td>NaN</td>\n      <td>http://parks.seoul.go.kr/file/info/view.do?fId...</td>\n      <td>중구</td>\n      <td>서울 중구 퇴계로 33</td>\n      <td>서울로운영단</td>\n      <td>02-313-7017</td>\n      <td>NaN</td>\n      <td>NaN</td>\n      <td>NaN</td>\n      <td>NaN</td>\n      <td>NaN</td>\n    </tr>\n  </tbody>\n</table>\n<p>132 rows × 20 columns</p>\n</div>"
     },
     "metadata": {},
     "execution_count": 11
    }
   ],
   "source": [
    "park = pd.read_csv('서울시 주요 공원현황(수정).csv')\n",
    "park"
   ]
  },
  {
   "cell_type": "code",
   "execution_count": 12,
   "metadata": {},
   "outputs": [
    {
     "output_type": "execute_result",
     "data": {
      "text/plain": [
       "공원번호              0\n",
       "공원명               0\n",
       "공원개요              1\n",
       "면적                3\n",
       "개원일              10\n",
       "주요시설              8\n",
       "주요식물             44\n",
       "안내도              30\n",
       "오시는길             17\n",
       "이용시참고사항          12\n",
       "이미지               0\n",
       "지역                0\n",
       "공원주소              0\n",
       "관리부서              0\n",
       "전화번호              0\n",
       "X좌표(GRS80TM)     10\n",
       "Y좌표(GRS80TM)     10\n",
       "X좌표(WGS84)        1\n",
       "Y좌표(WGS84)        1\n",
       "바로가기            114\n",
       "dtype: int64"
      ]
     },
     "metadata": {},
     "execution_count": 12
    }
   ],
   "source": [
    "# null 값 있는지 없는지 확인\n",
    "park.isnull().sum()"
   ]
  },
  {
   "cell_type": "code",
   "execution_count": null,
   "metadata": {},
   "outputs": [],
   "source": [
    "# null값이 있는 '면적' fillna 사용\n",
    "park['면적'] =  park.면적.fillna()\n"
   ]
  },
  {
   "cell_type": "code",
   "execution_count": null,
   "metadata": {},
   "outputs": [],
   "source": []
  }
 ]
}