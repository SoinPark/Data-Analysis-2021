{
 "metadata": {
  "language_info": {
   "codemirror_mode": {
    "name": "ipython",
    "version": 3
   },
   "file_extension": ".py",
   "mimetype": "text/x-python",
   "name": "python",
   "nbconvert_exporter": "python",
   "pygments_lexer": "ipython3",
   "version": 3
  },
  "orig_nbformat": 2
 },
 "nbformat": 4,
 "nbformat_minor": 2,
 "cells": [
  {
   "source": [
    "# 충정로역 맛집 검색"
   ],
   "cell_type": "markdown",
   "metadata": {}
  },
  {
   "source": [
    "## 망고 플레이트 활용"
   ],
   "cell_type": "markdown",
   "metadata": {}
  },
  {
   "cell_type": "code",
   "execution_count": null,
   "metadata": {},
   "outputs": [],
   "source": [
    "import time\n",
    "from selenium import webdriver\n",
    "from selenium.webdriver.common.keys import Keys\n",
    "import pandas as pd"
   ]
  },
  {
   "cell_type": "code",
   "execution_count": null,
   "metadata": {},
   "outputs": [],
   "source": [
    "driver = webdriver.Chrome()\n",
    "driver.get('https://www.mangoplate.com/')\n",
    "time.sleep(1)"
   ]
  },
  {
   "cell_type": "code",
   "execution_count": null,
   "metadata": {},
   "outputs": [],
   "source": [
    "# pop-up 창(iframe) 으로 이동해서 다시보지 않기 클릭\n",
    "driver.switch_to.frame('google_ads_iframe_/395211568/init/desktop_all_0')\n",
    "driver.find_element_by_css_selector('.ad_btn.ad_block_btn').click()"
   ]
  },
  {
   "cell_type": "code",
   "execution_count": null,
   "metadata": {},
   "outputs": [],
   "source": [
    "# 메인 창으로 이동해서 검색 데이터 입력후 리턴\n",
    "driver.switch_to.default_content()\n",
    "search_box = driver.find_element_by_css_selector('#main-search')\n",
    "search_box.send_keys('충정로역')\n",
    "search_box.send_keys(Keys.ENTER)    # Keys.RETURN\n",
    "time.sleep(1)"
   ]
  },
  {
   "cell_type": "code",
   "execution_count": null,
   "metadata": {},
   "outputs": [],
   "source": [
    "anchors = driver.find_elements_by_css_selector('p.paging>a')\n",
    "len_anchors = len(anchors)"
   ]
  },
  {
   "cell_type": "code",
   "execution_count": null,
   "metadata": {},
   "outputs": [],
   "source": [
    "name_list, score_list, summary_list, addr_list, tel_list = [],[],[],[],[]\n",
    "for page in range(len_anchors):\n",
    "    anchors = driver.find_elements_by_css_selector('p.paging>a')\n",
    "    anchors[page].click()\n",
    "    time.sleep(2)\n",
    "\n",
    "    lis = driver.find_elements_by_css_selector('.list-restaurant')\n",
    "    len_lis = len(lis)\n",
    "    for index in range(len_lis):\n",
    "        lis = driver.find_elements_by_css_selector('.list-restaurant')\n",
    "        pair = lis[index].find_elements_by_css_selector('.list-restaurant-item')\n",
    "        for i in range(len(pair)):\n",
    "            lis = driver.find_elements_by_css_selector('.list-restaurant')\n",
    "            pair = lis[index].find_elements_by_css_selector('.list-restaurant-item')\n",
    "            info = pair[i].find_element_by_css_selector('.info')\n",
    "            name = info.find_element_by_css_selector('.title').text\n",
    "            summary = info.find_element_by_css_selector('.etc').text\n",
    "            print(index, i, name)\n",
    "\n",
    "            pair[i].find_element_by_css_selector('.only-desktop_not').click()\n",
    "            time.sleep(2)\n",
    "\n",
    "            try:\n",
    "                score = driver.find_element_by_css_selector('.rate-point').text\n",
    "            except:\n",
    "                score = 'NA'\n",
    "            table = driver.find_element_by_css_selector('table.info')\n",
    "            trs = driver.find_elements_by_css_selector('tbody>tr')\n",
    "            addr = trs[0].find_element_by_css_selector('td').text\n",
    "            addr = addr.split('\\n')[0]\n",
    "            tel = trs[1].find_element_by_css_selector('td').text\n",
    "\n",
    "            name_list.append(name)\n",
    "            score_list.append(score)\n",
    "            summary_list.append(summary)\n",
    "            addr_list.append(addr)\n",
    "            tel_list.append(tel)\n",
    "\n",
    "            driver.back()\n",
    "            time.sleep(1)"
   ]
  },
  {
   "cell_type": "code",
   "execution_count": null,
   "metadata": {},
   "outputs": [],
   "source": [
    "driver.close()"
   ]
  },
  {
   "cell_type": "code",
   "execution_count": null,
   "metadata": {},
   "outputs": [],
   "source": [
    "df = pd.DataFrame({\n",
    "    '상호': name_list,\n",
    "    '평점': score_list,\n",
    "    '요약': summary_list,\n",
    "    '주소': addr_list,\n",
    "    '전화번호': tel_list\n",
    "})\n",
    "df.tail()"
   ]
  },
  {
   "cell_type": "code",
   "execution_count": null,
   "metadata": {},
   "outputs": [],
   "source": [
    "df.to_csv('충정로역맛집.csv', index=False, sep=',', encoding='utf8')"
   ]
  }
 ]
}