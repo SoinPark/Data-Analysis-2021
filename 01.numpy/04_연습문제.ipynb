{
 "metadata": {
  "language_info": {
   "codemirror_mode": {
    "name": "ipython",
    "version": 3
   },
   "file_extension": ".py",
   "mimetype": "text/x-python",
   "name": "python",
   "nbconvert_exporter": "python",
   "pygments_lexer": "ipython3",
   "version": "3.8.5"
  },
  "orig_nbformat": 2,
  "kernelspec": {
   "name": "python385jvsc74a57bd08c1eae21719a0790335dcb83aad72b63b602cfe5cdb2bda0f60bc11d4f154e4b",
   "display_name": "Python 3.8.5 64-bit ('base': conda)"
  }
 },
 "nbformat": 4,
 "nbformat_minor": 2,
 "cells": [
  {
   "cell_type": "code",
   "execution_count": 1,
   "metadata": {},
   "outputs": [],
   "source": [
    "import numpy as np"
   ]
  },
  {
   "source": [
    "### 1. 넘파이를 사용하여 다음과 같은 행렬을 만드시오.\n",
    "- 10 20 30 40\n",
    "- 50 60 70 80"
   ],
   "cell_type": "markdown",
   "metadata": {}
  },
  {
   "cell_type": "code",
   "execution_count": 4,
   "metadata": {},
   "outputs": [
    {
     "output_type": "execute_result",
     "data": {
      "text/plain": [
       "array([[10, 20, 30, 40],\n",
       "       [50, 60, 70, 80]])"
      ]
     },
     "metadata": {},
     "execution_count": 4
    }
   ],
   "source": [
    "a = [[10, 20, 30, 40], [50, 60, 70, 80]]\n",
    "np.array(a)"
   ]
  },
  {
   "source": [
    "### 2. 다음 행렬과 같은 행렬이 있다.\n",
    "- m = np.array([[0,1,2,3,4],\n",
    "              [5,6,7,8,9],\n",
    "              [10,11,12,13,14]])\n",
    "- 1) 이 행렬에서 값 7을 인덱싱한다.\n",
    "- 2) 이 행렬에서 값 14를 인덱싱한다.\n",
    "- 3) 이 행렬에서 배열 [6,7]을 슬라이싱한다.\n",
    "- 4) 이 행렬에서 배열 [7,12]를 슬라이싱한다.\n",
    "- 5) 이 행렬에서 배열 [[3,4], [8,9]]를 슬라이싱한다."
   ],
   "cell_type": "markdown",
   "metadata": {}
  },
  {
   "cell_type": "code",
   "execution_count": 5,
   "metadata": {},
   "outputs": [
    {
     "output_type": "execute_result",
     "data": {
      "text/plain": [
       "7"
      ]
     },
     "metadata": {},
     "execution_count": 5
    }
   ],
   "source": [
    "m = np.array([[0,1,2,3,4],\n",
    "              [5,6,7,8,9],\n",
    "              [10,11,12,13,14]])\n",
    "m[1,2]\n",
    "m[2,-1]         # m[-1, -1]\n",
    "m[1, 1:3]\n",
    "m[1,2], m[2,2]  # m[1:, 2]\n",
    "m[:2, 3:5]      # m[:2, 3:]"
   ]
  },
  {
   "source": [
    "### 3. 2번의 행렬 m을 1차원 벡터 f로 변환한 후 다음의 문제를 푸시오\n",
    "- 1) 이 배열에서 3의 배수를 찾아라\n",
    "- 2) 이 배열에서 4로 나누면 1이 남는 수를 찾아라\n",
    "- 3) 이 배열에서 3으로 나누면 나누어지고 4로 나누면 1이 남는 수를 찾아라"
   ],
   "cell_type": "markdown",
   "metadata": {}
  },
  {
   "cell_type": "code",
   "execution_count": 93,
   "metadata": {},
   "outputs": [
    {
     "output_type": "execute_result",
     "data": {
      "text/plain": [
       "array([9])"
      ]
     },
     "metadata": {},
     "execution_count": 93
    }
   ],
   "source": [
    "f = m.flatten()\n",
    "\n",
    "f[f % 3 == 0] \n",
    "f[f % 4 == 1]\n",
    "f[np.logical_and(f % 3 == 0, f % 4 == 1)]"
   ]
  },
  {
   "source": [
    "### 4. 값을 직접 입력하지 말고 행렬을 만드시오\n",
    "- 2 1 0 0 0\n",
    "- 3 2 1 0 0\n",
    "- 0 3 2 1 0\n",
    "- 0 0 3 2 1\n",
    "- 0 0 0 3 2"
   ],
   "cell_type": "markdown",
   "metadata": {}
  },
  {
   "cell_type": "code",
   "execution_count": 6,
   "metadata": {},
   "outputs": [
    {
     "output_type": "execute_result",
     "data": {
      "text/plain": [
       "array([[1., 0., 0., 0., 0.],\n",
       "       [0., 1., 0., 0., 0.],\n",
       "       [0., 0., 1., 0., 0.],\n",
       "       [0., 0., 0., 1., 0.],\n",
       "       [0., 0., 0., 0., 1.]])"
      ]
     },
     "metadata": {},
     "execution_count": 6
    }
   ],
   "source": [
    "np.eye(5)       # np.eye(5, 5, k=-1)*3 + np.eye(5,5) * 2 + np.eye(5, 5, k=1)"
   ]
  },
  {
   "cell_type": "code",
   "execution_count": 2,
   "metadata": {},
   "outputs": [
    {
     "output_type": "execute_result",
     "data": {
      "text/plain": [
       "array([[2., 1., 0., 0., 0.],\n",
       "       [3., 2., 1., 0., 0.],\n",
       "       [0., 3., 2., 1., 0.],\n",
       "       [0., 0., 3., 2., 1.],\n",
       "       [0., 0., 0., 3., 2.]])"
      ]
     },
     "metadata": {},
     "execution_count": 2
    }
   ],
   "source": [
    "np.eye(5, 5, k=-1)*3 + np.eye(5,5) * 2 + np.eye(5, 5, k=1)"
   ]
  },
  {
   "source": [
    "### 5. 0에서 10까지 랜덤 실수값으로이루어진 5 x 6 형태의 데이터 행렬을 만들고 이 데이터에 대해 다음과 같은 값을 구하시오.\n",
    "- 1) 전체의 최댓값\n",
    "- 2) 각 행의 합\n",
    "- 3) 각 행의 최댓값\n",
    "- 4) 각 열의 평균\n",
    "- 5) 각 열의 최솟값"
   ],
   "cell_type": "markdown",
   "metadata": {}
  },
  {
   "cell_type": "code",
   "execution_count": 82,
   "metadata": {},
   "outputs": [
    {
     "output_type": "execute_result",
     "data": {
      "text/plain": [
       "array([[5.27146881, 8.04382915, 2.95075894, 1.83338551, 0.1973246 ,\n",
       "        7.43321232],\n",
       "       [0.38293404, 4.33679669, 8.32084761, 0.13458558, 5.09335392,\n",
       "        4.795487  ],\n",
       "       [0.29654941, 0.11428527, 3.31844   , 0.61431079, 5.98173508,\n",
       "        8.85920254],\n",
       "       [4.12133775, 0.38272199, 0.80842404, 0.81914542, 8.09367334,\n",
       "        8.00694003],\n",
       "       [0.16909811, 8.61294325, 9.11300224, 4.00876685, 2.86890698,\n",
       "        8.43044885]])"
      ]
     },
     "metadata": {},
     "execution_count": 82
    }
   ],
   "source": [
    "b = np.random.uniform(0, 10, (5,6))\n",
    "\n",
    "b.max()             # 전체의 최댓값\n",
    "b.sum(axis = 1)     # 각 행의 합\n",
    "b.max(axis = 1)     # 각 행의 최댓값\n",
    "b.mean(axis = 0)    # 각 열의 평균\n",
    "b.min(axis = 0)     # 각 열의 최솟값"
   ]
  },
  {
   "cell_type": "code",
   "execution_count": null,
   "metadata": {},
   "outputs": [],
   "source": [
    "#### -답\n",
    "np.random.seed(2021)\n",
    "m = np.random.uniform(0, 10, 30).reshape(5, 6).round(4)\n",
    "m\n",
    "\n",
    "np.max(m)\n",
    "np.sum(m, axis = 1)\n",
    "np.max(m, axis = 1)\n",
    "np.mean(m, axis = 0)\n",
    "np.min(m, axis = 0)"
   ]
  },
  {
   "source": [
    "### 6. 다음 배열은 첫번째 행(row), 두번째 행에 영어 성적, 세번째 행에 수학 성적을 적은 배열이다. 영어 성적을 기준으로 각 열(column)을 재정렬하시오.\n",
    "- array([[1, 2, 3, 4],\n",
    "-        [46, 99, 100, 71],\n",
    "-        [81, 59, 90, 100]])"
   ],
   "cell_type": "markdown",
   "metadata": {}
  },
  {
   "cell_type": "code",
   "execution_count": 8,
   "metadata": {},
   "outputs": [
    {
     "output_type": "execute_result",
     "data": {
      "text/plain": [
       "array([[  1,   2,   3,   4],\n",
       "       [ 46,  99, 100,  71],\n",
       "       [ 81,  59,  99, 100]])"
      ]
     },
     "metadata": {},
     "execution_count": 8
    }
   ],
   "source": [
    "a = [[1, 2, 3, 4], [46, 99, 100, 71], [81, 59, 99, 100]]\n",
    "np.array(a)\n"
   ]
  },
  {
   "cell_type": "code",
   "execution_count": null,
   "metadata": {},
   "outputs": [],
   "source": [
    "#### - 답\n",
    "score = np.array([[1, 2, 3, 4],\n",
    "                  [46, 99, 100, 71],\n",
    "                  [81, 59, 99, 100]])\n",
    "np.sort(score, axis = 1, order=)\n",
    "\n",
    "\n",
    "s = np.argsort(score[1])        # 오름차순\n",
    "s[::-1]                         # 내림차순\n",
    "\n",
    "\n",
    "score[:, s]\n",
    "score[:, np.argsort(score[1])]      # 위에 처럼 단계 안나누고 한번에 사용하는법 \n",
    "score[:, np.argsort(score[1])[::-1]]    # 내림차순 한꺼번에 수행하기"
   ]
  },
  {
   "source": [
    "- argmax() : 컬럼의 최대값인 인덱스의 위치값...\n",
    "- argsort() : 컬럼의 인덱스의 위치값 내림차순정렬!!  ※ 그냥인덱스가아니라 컬럼의 위치값임"
   ],
   "cell_type": "markdown",
   "metadata": {}
  },
  {
   "source": [
    "### 7. 주사위를 100번 던지는 가상 실험을 파이썬으로 작성하고, 던져서 나오는 숫자의 평균을 구하시오"
   ],
   "cell_type": "markdown",
   "metadata": {}
  },
  {
   "cell_type": "code",
   "execution_count": 95,
   "metadata": {},
   "outputs": [],
   "source": [
    "a = np.random.binomial(1, 0.5, 100)     # 앞 또는 뒤 (n =1)가 나올확률(0.5)을 100번(100)  \n",
    "# 이거는 동전 구하는거"
   ]
  },
  {
   "cell_type": "code",
   "execution_count": null,
   "metadata": {},
   "outputs": [],
   "source": [
    "#### - 답\n",
    "np.random.seed(2021)\n",
    "dice = np.random.randint(1, 7, 100)     # 주사위 1~6까지 100번\n",
    "dice\n",
    "\n",
    "np.mean(dice)"
   ]
  },
  {
   "source": [
    "### 8. 가격이 10,000원인 주식이 있다. 이 주식의 일간 수익률(%)은 기댓값이 0%이고 표준편차가 1%인 표준 정규 분포를 따른다고 할때, 250일 동안의 주가를 무작위로 생성하시오.\n",
    "- 일간 수익률 = 누적\n",
    "-10,000 +1% → 10,100 →  -1% 9,999\n",
    "        -1% →   9,900 →  +1% 9,999"
   ],
   "cell_type": "markdown",
   "metadata": {}
  },
  {
   "cell_type": "code",
   "execution_count": 10,
   "metadata": {},
   "outputs": [
    {
     "output_type": "stream",
     "name": "stdout",
     "text": [
      "20000.0, 40000.0, 80000.0, 160000.0, 320000.0, 640000.0, 1280000.0, 2560000.0, 5120000.0, 10240000.0, "
     ]
    }
   ],
   "source": [
    "#### - 답\n",
    "np.random.seed(2021)\n",
    "price = 10000\n",
    "rate = np.random.normal(0, 1, 10)\n",
    "for i in range(10):\n",
    "    price += np.round(price + rate[i] * 0.01)       # 누적\n",
    "    print(price, end=\", \")"
   ]
  },
  {
   "cell_type": "code",
   "execution_count": 13,
   "metadata": {},
   "outputs": [],
   "source": [
    "np.random.seed(2021)\n",
    "price_list = []\n",
    "rate = np.random.normal(0, 1, 250)\n",
    "price = 10000\n",
    "for i in range(250):\n",
    "    price += np.round(price * rate[i] * 0.01)\n",
    "    price_list.append(price)\n",
    "price_array = np.array(price_list, int)     # array는 갯수, 계산에 취약하다다"
   ]
  },
  {
   "cell_type": "code",
   "execution_count": 14,
   "metadata": {},
   "outputs": [
    {
     "output_type": "stream",
     "name": "stdout",
     "text": [
      "[10149 10218 10175 10093 10149 10077 10191 10257 10268 10311]\n[12072 12210 12255 12359 12292 12262 12136 12010 11984 12113]\n"
     ]
    }
   ],
   "source": [
    "print(price_array[:10])     # 앞뒤로 10개 뽑기\n",
    "print(price_array[-10:])"
   ]
  },
  {
   "cell_type": "code",
   "execution_count": 3,
   "metadata": {},
   "outputs": [
    {
     "output_type": "stream",
     "name": "stdout",
     "text": [
      "[10000, 10149, 10217, 10175, 10094, 10150, 10079, 10192, 10257, 10268, 10310, 10322, 10238, 10279, 10289, 10098, 10208, 10068, 10045, 9911, 9941, 9869, 10123, 10255, 10262, 10236, 10250, 10365, 10503, 10456, 10508, 10657, 10805, 10878, 10839, 10867, 10872, 10768, 10752, 10473, 10509, 10533, 10581, 10602, 10694, 10553, 10675, 10620, 10711, 10613, 10550, 10633, 10505, 10470, 10362, 10459, 10500, 10487, 10420, 10542, 10449, 10591, 10579, 10650, 10722, 10736, 10671, 10604, 10691, 10791, 10754, 10867, 10946, 10771, 10690, 10549, 10469, 10549, 10725, 10717, 10759, 10775, 10769, 10715, 10805, 10827, 10955, 11018, 11054, 11418, 11298, 11165, 11291, 11226, 11451, 11350, 11337, 11294, 11337, 11413, 11314, 11240, 11286, 11412, 11368, 11422, 11479, 11435, 11512, 11560, 11472, 11404, 11449, 11376, 11232, 11447, 11452, 11517, 11410, 11434, 11471, 11512, 11632, 11740, 11768, 11861, 11894, 12073, 11978, 11921, 11946, 11997, 11953, 12132, 12150, 12188, 12239, 12298, 12488, 12548, 12536, 12551, 12608, 12548, 12586, 12524, 12540, 12398, 12590, 12692, 12669, 12715, 12743, 12625, 12778, 12895, 12655, 12505, 12669, 12775, 12653, 12506, 12555, 12416, 12408, 12383, 12526, 12604, 12767, 12855, 12939, 12841, 12712, 12711, 12705, 12732, 12774, 12711, 12687, 12766, 12626, 12700, 12694, 12657, 12715, 12586, 12671, 12739, 12604, 12506, 12355, 12248, 12283, 12200, 12050, 11898, 11794, 11860, 11798, 11734, 11665, 11709, 11795, 11810, 11651, 11915, 11843, 11804, 11563, 11607, 11650, 11562, 11731, 11831, 11834, 11706, 11664, 11688, 11768, 11750, 11863, 11746, 11758, 11687, 11691, 11635, 11676, 11830, 11857, 11716, 11750, 11781, 11996, 12141, 12248, 12198, 12163, 12097, 11810, 11895, 11928, 12005, 12120, 12157, 12242, 12188, 12164, 12062, 11958, 11936, 12043]\n"
     ]
    }
   ],
   "source": [
    "#### - 답 : 수민버전\n",
    "stock = [10000]\n",
    "np.random.seed(2021)\n",
    "for i in range(250):\n",
    "    rate = np.random.normal(0, 1, 1)/100        # (평균, 표준편차, 뽑는 횟수)\n",
    "    price = int(np.round(stock[0]*rate + stock[-1], 0)) # 초기자금에 rate곱한거(수익률) + 최종자금)\n",
    "    stock.append(price)     # 원자금 stock에 수익률 price를 더한다\n",
    "print(stock)"
   ]
  }
 ]
}