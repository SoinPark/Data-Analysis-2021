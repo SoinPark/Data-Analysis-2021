{
 "metadata": {
  "language_info": {
   "codemirror_mode": {
    "name": "ipython",
    "version": 3
   },
   "file_extension": ".py",
   "mimetype": "text/x-python",
   "name": "python",
   "nbconvert_exporter": "python",
   "pygments_lexer": "ipython3",
   "version": "3.8.5"
  },
  "orig_nbformat": 2,
  "kernelspec": {
   "name": "python385jvsc74a57bd08c1eae21719a0790335dcb83aad72b63b602cfe5cdb2bda0f60bc11d4f154e4b",
   "display_name": "Python 3.8.5 64-bit ('base': conda)"
  }
 },
 "nbformat": 4,
 "nbformat_minor": 2,
 "cells": [
  {
   "cell_type": "code",
   "execution_count": 1,
   "metadata": {},
   "outputs": [],
   "source": [
    "import numpy as np"
   ]
  },
  {
   "source": [
    "### 1. 넘파이를 사용하여 다음과 같은 행렬을 만드시오.\n",
    "- 10 20 30 40\n",
    "- 50 60 70 80"
   ],
   "cell_type": "markdown",
   "metadata": {}
  },
  {
   "cell_type": "code",
   "execution_count": 4,
   "metadata": {},
   "outputs": [
    {
     "output_type": "execute_result",
     "data": {
      "text/plain": [
       "array([[10, 20, 30, 40],\n",
       "       [50, 60, 70, 80]])"
      ]
     },
     "metadata": {},
     "execution_count": 4
    }
   ],
   "source": [
    "a = [[10, 20, 30, 40], [50, 60, 70, 80]]\n",
    "np.array(a)"
   ]
  },
  {
   "source": [
    "### 2. 다음 행렬과 같은 행렬이 있다.\n",
    "- m = np.array([[0,1,2,3,4],\n",
    "              [5,6,7,8,9],\n",
    "              [10,11,12,13,14]])\n",
    "- 1) 이 행렬에서 값 7을 인덱싱한다.\n",
    "- 2) 이 행렬에서 값 14를 인덱싱한다.\n",
    "- 3) 이 행렬에서 배열 [6,7]을 슬라이싱한다.\n",
    "- 4) 이 행렬에서 배열 [7,12]를 슬라이싱한다.\n",
    "- 5) 이 행렬에서 배열 [[3,4], [8,9]]를 슬라이싱한다."
   ],
   "cell_type": "markdown",
   "metadata": {}
  },
  {
   "cell_type": "code",
   "execution_count": 5,
   "metadata": {},
   "outputs": [
    {
     "output_type": "execute_result",
     "data": {
      "text/plain": [
       "7"
      ]
     },
     "metadata": {},
     "execution_count": 5
    }
   ],
   "source": [
    "m = np.array([[0,1,2,3,4],\n",
    "              [5,6,7,8,9],\n",
    "              [10,11,12,13,14]])\n",
    "m[1,2]\n",
    "m[2,-1]\n",
    "m[1, 1:3]\n",
    "m[1,2], m[2,2]\n",
    "m[:2, 3:5]"
   ]
  },
  {
   "source": [
    "### 3. 2번의 행렬 m을 1차원 벡터 f로 변환한 후 다음의 문제를 푸시오\n",
    "- 1) 이 배열에서 3의 배수를 찾아라\n",
    "- 2) 이 배열에서 4로 나누면 1이 남는 수를 찾아라\n",
    "- 3) 이 배열에서 3으로 나누면 나누어지고 4로 나누면 1이 남는 수를 찾아라"
   ],
   "cell_type": "markdown",
   "metadata": {}
  },
  {
   "cell_type": "code",
   "execution_count": 93,
   "metadata": {},
   "outputs": [
    {
     "output_type": "execute_result",
     "data": {
      "text/plain": [
       "array([9])"
      ]
     },
     "metadata": {},
     "execution_count": 93
    }
   ],
   "source": [
    "f = m.flatten()\n",
    "\n",
    "f[f % 3 == 0] \n",
    "f[f % 4 == 1]\n",
    "f[np.logical_and(f % 3 == 0, f % 4 == 1)]"
   ]
  },
  {
   "source": [
    "### 4. 값을 직접 입력하지 말고 행렬을 만드시오\n",
    "- 2 1 0 0 0\n",
    "- 3 2 1 0 0\n",
    "- 0 3 2 1 0\n",
    "- 0 0 3 2 1\n",
    "- 0 0 0 3 2"
   ],
   "cell_type": "markdown",
   "metadata": {}
  },
  {
   "cell_type": "code",
   "execution_count": 56,
   "metadata": {},
   "outputs": [
    {
     "output_type": "execute_result",
     "data": {
      "text/plain": [
       "array([[1., 0., 0., 0., 0.],\n",
       "       [0., 1., 0., 0., 0.],\n",
       "       [0., 0., 1., 0., 0.],\n",
       "       [0., 0., 0., 1., 0.],\n",
       "       [0., 0., 0., 0., 1.]])"
      ]
     },
     "metadata": {},
     "execution_count": 56
    }
   ],
   "source": [
    "np.eye(5)"
   ]
  },
  {
   "source": [
    "### 5. 0에서 10까지 랜덤 실수값으로이루어진 5 x 6 형태의 데이터 행렬을 만들고 이 데이터에 대해 다음과 같은 값을 구하시오.\n",
    "- 1) 전체의 최댓값\n",
    "- 2) 각 행의 합\n",
    "- 3) 각 행의 최댓값\n",
    "- 4) 각 열의 평균\n",
    "- 5) 각 열의 최솟값"
   ],
   "cell_type": "markdown",
   "metadata": {}
  },
  {
   "cell_type": "code",
   "execution_count": 82,
   "metadata": {},
   "outputs": [
    {
     "output_type": "execute_result",
     "data": {
      "text/plain": [
       "array([[5.27146881, 8.04382915, 2.95075894, 1.83338551, 0.1973246 ,\n",
       "        7.43321232],\n",
       "       [0.38293404, 4.33679669, 8.32084761, 0.13458558, 5.09335392,\n",
       "        4.795487  ],\n",
       "       [0.29654941, 0.11428527, 3.31844   , 0.61431079, 5.98173508,\n",
       "        8.85920254],\n",
       "       [4.12133775, 0.38272199, 0.80842404, 0.81914542, 8.09367334,\n",
       "        8.00694003],\n",
       "       [0.16909811, 8.61294325, 9.11300224, 4.00876685, 2.86890698,\n",
       "        8.43044885]])"
      ]
     },
     "metadata": {},
     "execution_count": 82
    }
   ],
   "source": [
    "b = np.random.uniform(0, 10, (5,6))\n",
    "\n",
    "b.max()             # 전체의 최댓값\n",
    "b.sum(axis = 1)     # 각 행의 합\n",
    "b.max(axis = 1)     # 각 행의 최댓값\n",
    "b.mean(axis = 0)    # 각 열의 평균\n",
    "b.min(axis = 0)     # 각 열의 최솟값"
   ]
  },
  {
   "source": [
    "### 6. 다음 배열은 첫번째 행(row), 두번째 행에 영어 성적, 세번째 행에 수학 성적을 적은 배열이다. 영어 성적을 기준으로 각 열(column)을 재정렬하시오.\n",
    "- array([[1, 2, 3, 4],\n",
    "-        [46, 99, 100, 71],\n",
    "-        [81, 59, 90, 100]])"
   ],
   "cell_type": "markdown",
   "metadata": {}
  },
  {
   "cell_type": "code",
   "execution_count": null,
   "metadata": {},
   "outputs": [],
   "source": [
    "a ="
   ]
  },
  {
   "source": [
    "### 7. 주사위를 100번 던지는 가상 실험을 파이썬으로 작성하고, 던져서 나오는 숫자의 평균을 구하시오"
   ],
   "cell_type": "markdown",
   "metadata": {}
  },
  {
   "cell_type": "code",
   "execution_count": 66,
   "metadata": {},
   "outputs": [
    {
     "output_type": "execute_result",
     "data": {
      "text/plain": [
       "49.2"
      ]
     },
     "metadata": {},
     "execution_count": 66
    }
   ],
   "source": [
    "a = np.random.binomial(100, 0.5, 10)\n",
    "a.mean()"
   ]
  },
  {
   "source": [
    "### 8. 가격이 10,000원인 주식이 있다. 이 주식의 일간 수익률(%)은 기댓값이 0%이고 표준편차가 1%인 표준 정규 분포를 따른다고 할때, 250일 동안의 주가를 무작위로 생성하시오."
   ],
   "cell_type": "markdown",
   "metadata": {}
  },
  {
   "cell_type": "code",
   "execution_count": null,
   "metadata": {},
   "outputs": [],
   "source": []
  }
 ]
}