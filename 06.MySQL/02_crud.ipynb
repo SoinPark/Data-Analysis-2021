{
 "metadata": {
  "language_info": {
   "codemirror_mode": {
    "name": "ipython",
    "version": 3
   },
   "file_extension": ".py",
   "mimetype": "text/x-python",
   "name": "python",
   "nbconvert_exporter": "python",
   "pygments_lexer": "ipython3",
   "version": "3.8.5"
  },
  "orig_nbformat": 2,
  "kernelspec": {
   "name": "python385jvsc74a57bd08c1eae21719a0790335dcb83aad72b63b602cfe5cdb2bda0f60bc11d4f154e4b",
   "display_name": "Python 3.8.5 64-bit ('base': conda)"
  }
 },
 "nbformat": 4,
 "nbformat_minor": 2,
 "cells": [
  {
   "source": [
    "# Python에서 MySQL 사용하기"
   ],
   "cell_type": "markdown",
   "metadata": {}
  },
  {
   "source": [
    "- CRUD Operation"
   ],
   "cell_type": "markdown",
   "metadata": {}
  },
  {
   "cell_type": "code",
   "execution_count": 2,
   "metadata": {},
   "outputs": [],
   "source": [
    "import json\n",
    "import pymysql"
   ]
  },
  {
   "cell_type": "code",
   "execution_count": 3,
   "metadata": {},
   "outputs": [
    {
     "output_type": "execute_result",
     "data": {
      "text/plain": [
       "'{\\n    \"host\": \"localhost\",\\n    \"user\": \"hkuser\",\\n    \"password\": \"hkpass\",\\n    \"database\": \"world\",\\n    \"port\": 3306\\n}'"
      ]
     },
     "metadata": {},
     "execution_count": 3
    }
   ],
   "source": [
    "with open('mysql.json','r') as file:\n",
    "    config_str = file.read()\n",
    "config_str"
   ]
  },
  {
   "cell_type": "code",
   "execution_count": 4,
   "metadata": {},
   "outputs": [
    {
     "output_type": "execute_result",
     "data": {
      "text/plain": [
       "{'host': 'localhost',\n",
       " 'user': 'hkuser',\n",
       " 'password': 'hkpass',\n",
       " 'database': 'world',\n",
       " 'port': 3306}"
      ]
     },
     "metadata": {},
     "execution_count": 4
    }
   ],
   "source": [
    "config = json.loads(config_str)\n",
    "config"
   ]
  },
  {
   "cell_type": "code",
   "execution_count": 5,
   "metadata": {},
   "outputs": [],
   "source": [
    "conn = pymysql.connect(                 # connection \n",
    "    host = config['host'],\n",
    "    user = config['user'],\n",
    "    password = config['password'],\n",
    "    database =  config['database'],\n",
    "    port =  config['port']\n",
    ")"
   ]
  },
  {
   "source": [
    "- 테이블 생성"
   ],
   "cell_type": "markdown",
   "metadata": {}
  },
  {
   "cell_type": "code",
   "execution_count": 6,
   "metadata": {},
   "outputs": [],
   "source": [
    "sql_user = \"\"\"\n",
    "    CREATE TABLE if NOT EXISTS uers(\n",
    "\tuid VARCHAR(20) NOT NULL PRIMARY KEY,\n",
    "\tpwd CHAR(44),\n",
    "\tuname VARCHAR(20) NOT NULL,\n",
    "\treg_date DATETIME DEFAULT CURRENT_TIMESTAMP,\n",
    "\tis_deleted INT DEFAULT 0\n",
    ");\n",
    "\"\"\""
   ]
  },
  {
   "cell_type": "code",
   "execution_count": 7,
   "metadata": {},
   "outputs": [
    {
     "output_type": "execute_result",
     "data": {
      "text/plain": [
       "0"
      ]
     },
     "metadata": {},
     "execution_count": 7
    }
   ],
   "source": [
    "cur = conn.cursor()\n",
    "cur.execute(sql_user)"
   ]
  },
  {
   "source": [
    "- 테이블 변경"
   ],
   "cell_type": "markdown",
   "metadata": {}
  },
  {
   "cell_type": "code",
   "execution_count": 25,
   "metadata": {},
   "outputs": [
    {
     "output_type": "error",
     "ename": "OperationalError",
     "evalue": "(1060, \"Duplicate column name 'email'\")",
     "traceback": [
      "\u001b[1;31m---------------------------------------------------------------------------\u001b[0m",
      "\u001b[1;31mOperationalError\u001b[0m                          Traceback (most recent call last)",
      "\u001b[1;32m<ipython-input-25-5e0847dfb41f>\u001b[0m in \u001b[0;36m<module>\u001b[1;34m\u001b[0m\n\u001b[1;32m----> 1\u001b[1;33m \u001b[0mcur\u001b[0m\u001b[1;33m.\u001b[0m\u001b[0mexecute\u001b[0m\u001b[1;33m(\u001b[0m\u001b[1;34m'alter table users add column email varchar(40);'\u001b[0m\u001b[1;33m)\u001b[0m\u001b[1;33m\u001b[0m\u001b[1;33m\u001b[0m\u001b[0m\n\u001b[0m",
      "\u001b[1;32m~\\miniconda3\\lib\\site-packages\\pymysql\\cursors.py\u001b[0m in \u001b[0;36mexecute\u001b[1;34m(self, query, args)\u001b[0m\n\u001b[0;32m    146\u001b[0m         \u001b[0mquery\u001b[0m \u001b[1;33m=\u001b[0m \u001b[0mself\u001b[0m\u001b[1;33m.\u001b[0m\u001b[0mmogrify\u001b[0m\u001b[1;33m(\u001b[0m\u001b[0mquery\u001b[0m\u001b[1;33m,\u001b[0m \u001b[0margs\u001b[0m\u001b[1;33m)\u001b[0m\u001b[1;33m\u001b[0m\u001b[1;33m\u001b[0m\u001b[0m\n\u001b[0;32m    147\u001b[0m \u001b[1;33m\u001b[0m\u001b[0m\n\u001b[1;32m--> 148\u001b[1;33m         \u001b[0mresult\u001b[0m \u001b[1;33m=\u001b[0m \u001b[0mself\u001b[0m\u001b[1;33m.\u001b[0m\u001b[0m_query\u001b[0m\u001b[1;33m(\u001b[0m\u001b[0mquery\u001b[0m\u001b[1;33m)\u001b[0m\u001b[1;33m\u001b[0m\u001b[1;33m\u001b[0m\u001b[0m\n\u001b[0m\u001b[0;32m    149\u001b[0m         \u001b[0mself\u001b[0m\u001b[1;33m.\u001b[0m\u001b[0m_executed\u001b[0m \u001b[1;33m=\u001b[0m \u001b[0mquery\u001b[0m\u001b[1;33m\u001b[0m\u001b[1;33m\u001b[0m\u001b[0m\n\u001b[0;32m    150\u001b[0m         \u001b[1;32mreturn\u001b[0m \u001b[0mresult\u001b[0m\u001b[1;33m\u001b[0m\u001b[1;33m\u001b[0m\u001b[0m\n",
      "\u001b[1;32m~\\miniconda3\\lib\\site-packages\\pymysql\\cursors.py\u001b[0m in \u001b[0;36m_query\u001b[1;34m(self, q)\u001b[0m\n\u001b[0;32m    308\u001b[0m         \u001b[0mself\u001b[0m\u001b[1;33m.\u001b[0m\u001b[0m_last_executed\u001b[0m \u001b[1;33m=\u001b[0m \u001b[0mq\u001b[0m\u001b[1;33m\u001b[0m\u001b[1;33m\u001b[0m\u001b[0m\n\u001b[0;32m    309\u001b[0m         \u001b[0mself\u001b[0m\u001b[1;33m.\u001b[0m\u001b[0m_clear_result\u001b[0m\u001b[1;33m(\u001b[0m\u001b[1;33m)\u001b[0m\u001b[1;33m\u001b[0m\u001b[1;33m\u001b[0m\u001b[0m\n\u001b[1;32m--> 310\u001b[1;33m         \u001b[0mconn\u001b[0m\u001b[1;33m.\u001b[0m\u001b[0mquery\u001b[0m\u001b[1;33m(\u001b[0m\u001b[0mq\u001b[0m\u001b[1;33m)\u001b[0m\u001b[1;33m\u001b[0m\u001b[1;33m\u001b[0m\u001b[0m\n\u001b[0m\u001b[0;32m    311\u001b[0m         \u001b[0mself\u001b[0m\u001b[1;33m.\u001b[0m\u001b[0m_do_get_result\u001b[0m\u001b[1;33m(\u001b[0m\u001b[1;33m)\u001b[0m\u001b[1;33m\u001b[0m\u001b[1;33m\u001b[0m\u001b[0m\n\u001b[0;32m    312\u001b[0m         \u001b[1;32mreturn\u001b[0m \u001b[0mself\u001b[0m\u001b[1;33m.\u001b[0m\u001b[0mrowcount\u001b[0m\u001b[1;33m\u001b[0m\u001b[1;33m\u001b[0m\u001b[0m\n",
      "\u001b[1;32m~\\miniconda3\\lib\\site-packages\\pymysql\\connections.py\u001b[0m in \u001b[0;36mquery\u001b[1;34m(self, sql, unbuffered)\u001b[0m\n\u001b[0;32m    546\u001b[0m             \u001b[0msql\u001b[0m \u001b[1;33m=\u001b[0m \u001b[0msql\u001b[0m\u001b[1;33m.\u001b[0m\u001b[0mencode\u001b[0m\u001b[1;33m(\u001b[0m\u001b[0mself\u001b[0m\u001b[1;33m.\u001b[0m\u001b[0mencoding\u001b[0m\u001b[1;33m,\u001b[0m \u001b[1;34m\"surrogateescape\"\u001b[0m\u001b[1;33m)\u001b[0m\u001b[1;33m\u001b[0m\u001b[1;33m\u001b[0m\u001b[0m\n\u001b[0;32m    547\u001b[0m         \u001b[0mself\u001b[0m\u001b[1;33m.\u001b[0m\u001b[0m_execute_command\u001b[0m\u001b[1;33m(\u001b[0m\u001b[0mCOMMAND\u001b[0m\u001b[1;33m.\u001b[0m\u001b[0mCOM_QUERY\u001b[0m\u001b[1;33m,\u001b[0m \u001b[0msql\u001b[0m\u001b[1;33m)\u001b[0m\u001b[1;33m\u001b[0m\u001b[1;33m\u001b[0m\u001b[0m\n\u001b[1;32m--> 548\u001b[1;33m         \u001b[0mself\u001b[0m\u001b[1;33m.\u001b[0m\u001b[0m_affected_rows\u001b[0m \u001b[1;33m=\u001b[0m \u001b[0mself\u001b[0m\u001b[1;33m.\u001b[0m\u001b[0m_read_query_result\u001b[0m\u001b[1;33m(\u001b[0m\u001b[0munbuffered\u001b[0m\u001b[1;33m=\u001b[0m\u001b[0munbuffered\u001b[0m\u001b[1;33m)\u001b[0m\u001b[1;33m\u001b[0m\u001b[1;33m\u001b[0m\u001b[0m\n\u001b[0m\u001b[0;32m    549\u001b[0m         \u001b[1;32mreturn\u001b[0m \u001b[0mself\u001b[0m\u001b[1;33m.\u001b[0m\u001b[0m_affected_rows\u001b[0m\u001b[1;33m\u001b[0m\u001b[1;33m\u001b[0m\u001b[0m\n\u001b[0;32m    550\u001b[0m \u001b[1;33m\u001b[0m\u001b[0m\n",
      "\u001b[1;32m~\\miniconda3\\lib\\site-packages\\pymysql\\connections.py\u001b[0m in \u001b[0;36m_read_query_result\u001b[1;34m(self, unbuffered)\u001b[0m\n\u001b[0;32m    773\u001b[0m         \u001b[1;32melse\u001b[0m\u001b[1;33m:\u001b[0m\u001b[1;33m\u001b[0m\u001b[1;33m\u001b[0m\u001b[0m\n\u001b[0;32m    774\u001b[0m             \u001b[0mresult\u001b[0m \u001b[1;33m=\u001b[0m \u001b[0mMySQLResult\u001b[0m\u001b[1;33m(\u001b[0m\u001b[0mself\u001b[0m\u001b[1;33m)\u001b[0m\u001b[1;33m\u001b[0m\u001b[1;33m\u001b[0m\u001b[0m\n\u001b[1;32m--> 775\u001b[1;33m             \u001b[0mresult\u001b[0m\u001b[1;33m.\u001b[0m\u001b[0mread\u001b[0m\u001b[1;33m(\u001b[0m\u001b[1;33m)\u001b[0m\u001b[1;33m\u001b[0m\u001b[1;33m\u001b[0m\u001b[0m\n\u001b[0m\u001b[0;32m    776\u001b[0m         \u001b[0mself\u001b[0m\u001b[1;33m.\u001b[0m\u001b[0m_result\u001b[0m \u001b[1;33m=\u001b[0m \u001b[0mresult\u001b[0m\u001b[1;33m\u001b[0m\u001b[1;33m\u001b[0m\u001b[0m\n\u001b[0;32m    777\u001b[0m         \u001b[1;32mif\u001b[0m \u001b[0mresult\u001b[0m\u001b[1;33m.\u001b[0m\u001b[0mserver_status\u001b[0m \u001b[1;32mis\u001b[0m \u001b[1;32mnot\u001b[0m \u001b[1;32mNone\u001b[0m\u001b[1;33m:\u001b[0m\u001b[1;33m\u001b[0m\u001b[1;33m\u001b[0m\u001b[0m\n",
      "\u001b[1;32m~\\miniconda3\\lib\\site-packages\\pymysql\\connections.py\u001b[0m in \u001b[0;36mread\u001b[1;34m(self)\u001b[0m\n\u001b[0;32m   1154\u001b[0m     \u001b[1;32mdef\u001b[0m \u001b[0mread\u001b[0m\u001b[1;33m(\u001b[0m\u001b[0mself\u001b[0m\u001b[1;33m)\u001b[0m\u001b[1;33m:\u001b[0m\u001b[1;33m\u001b[0m\u001b[1;33m\u001b[0m\u001b[0m\n\u001b[0;32m   1155\u001b[0m         \u001b[1;32mtry\u001b[0m\u001b[1;33m:\u001b[0m\u001b[1;33m\u001b[0m\u001b[1;33m\u001b[0m\u001b[0m\n\u001b[1;32m-> 1156\u001b[1;33m             \u001b[0mfirst_packet\u001b[0m \u001b[1;33m=\u001b[0m \u001b[0mself\u001b[0m\u001b[1;33m.\u001b[0m\u001b[0mconnection\u001b[0m\u001b[1;33m.\u001b[0m\u001b[0m_read_packet\u001b[0m\u001b[1;33m(\u001b[0m\u001b[1;33m)\u001b[0m\u001b[1;33m\u001b[0m\u001b[1;33m\u001b[0m\u001b[0m\n\u001b[0m\u001b[0;32m   1157\u001b[0m \u001b[1;33m\u001b[0m\u001b[0m\n\u001b[0;32m   1158\u001b[0m             \u001b[1;32mif\u001b[0m \u001b[0mfirst_packet\u001b[0m\u001b[1;33m.\u001b[0m\u001b[0mis_ok_packet\u001b[0m\u001b[1;33m(\u001b[0m\u001b[1;33m)\u001b[0m\u001b[1;33m:\u001b[0m\u001b[1;33m\u001b[0m\u001b[1;33m\u001b[0m\u001b[0m\n",
      "\u001b[1;32m~\\miniconda3\\lib\\site-packages\\pymysql\\connections.py\u001b[0m in \u001b[0;36m_read_packet\u001b[1;34m(self, packet_type)\u001b[0m\n\u001b[0;32m    723\u001b[0m             \u001b[1;32mif\u001b[0m \u001b[0mself\u001b[0m\u001b[1;33m.\u001b[0m\u001b[0m_result\u001b[0m \u001b[1;32mis\u001b[0m \u001b[1;32mnot\u001b[0m \u001b[1;32mNone\u001b[0m \u001b[1;32mand\u001b[0m \u001b[0mself\u001b[0m\u001b[1;33m.\u001b[0m\u001b[0m_result\u001b[0m\u001b[1;33m.\u001b[0m\u001b[0munbuffered_active\u001b[0m \u001b[1;32mis\u001b[0m \u001b[1;32mTrue\u001b[0m\u001b[1;33m:\u001b[0m\u001b[1;33m\u001b[0m\u001b[1;33m\u001b[0m\u001b[0m\n\u001b[0;32m    724\u001b[0m                 \u001b[0mself\u001b[0m\u001b[1;33m.\u001b[0m\u001b[0m_result\u001b[0m\u001b[1;33m.\u001b[0m\u001b[0munbuffered_active\u001b[0m \u001b[1;33m=\u001b[0m \u001b[1;32mFalse\u001b[0m\u001b[1;33m\u001b[0m\u001b[1;33m\u001b[0m\u001b[0m\n\u001b[1;32m--> 725\u001b[1;33m             \u001b[0mpacket\u001b[0m\u001b[1;33m.\u001b[0m\u001b[0mraise_for_error\u001b[0m\u001b[1;33m(\u001b[0m\u001b[1;33m)\u001b[0m\u001b[1;33m\u001b[0m\u001b[1;33m\u001b[0m\u001b[0m\n\u001b[0m\u001b[0;32m    726\u001b[0m         \u001b[1;32mreturn\u001b[0m \u001b[0mpacket\u001b[0m\u001b[1;33m\u001b[0m\u001b[1;33m\u001b[0m\u001b[0m\n\u001b[0;32m    727\u001b[0m \u001b[1;33m\u001b[0m\u001b[0m\n",
      "\u001b[1;32m~\\miniconda3\\lib\\site-packages\\pymysql\\protocol.py\u001b[0m in \u001b[0;36mraise_for_error\u001b[1;34m(self)\u001b[0m\n\u001b[0;32m    219\u001b[0m         \u001b[1;32mif\u001b[0m \u001b[0mDEBUG\u001b[0m\u001b[1;33m:\u001b[0m\u001b[1;33m\u001b[0m\u001b[1;33m\u001b[0m\u001b[0m\n\u001b[0;32m    220\u001b[0m             \u001b[0mprint\u001b[0m\u001b[1;33m(\u001b[0m\u001b[1;34m\"errno =\"\u001b[0m\u001b[1;33m,\u001b[0m \u001b[0merrno\u001b[0m\u001b[1;33m)\u001b[0m\u001b[1;33m\u001b[0m\u001b[1;33m\u001b[0m\u001b[0m\n\u001b[1;32m--> 221\u001b[1;33m         \u001b[0merr\u001b[0m\u001b[1;33m.\u001b[0m\u001b[0mraise_mysql_exception\u001b[0m\u001b[1;33m(\u001b[0m\u001b[0mself\u001b[0m\u001b[1;33m.\u001b[0m\u001b[0m_data\u001b[0m\u001b[1;33m)\u001b[0m\u001b[1;33m\u001b[0m\u001b[1;33m\u001b[0m\u001b[0m\n\u001b[0m\u001b[0;32m    222\u001b[0m \u001b[1;33m\u001b[0m\u001b[0m\n\u001b[0;32m    223\u001b[0m     \u001b[1;32mdef\u001b[0m \u001b[0mdump\u001b[0m\u001b[1;33m(\u001b[0m\u001b[0mself\u001b[0m\u001b[1;33m)\u001b[0m\u001b[1;33m:\u001b[0m\u001b[1;33m\u001b[0m\u001b[1;33m\u001b[0m\u001b[0m\n",
      "\u001b[1;32m~\\miniconda3\\lib\\site-packages\\pymysql\\err.py\u001b[0m in \u001b[0;36mraise_mysql_exception\u001b[1;34m(data)\u001b[0m\n\u001b[0;32m    141\u001b[0m     \u001b[1;32mif\u001b[0m \u001b[0merrorclass\u001b[0m \u001b[1;32mis\u001b[0m \u001b[1;32mNone\u001b[0m\u001b[1;33m:\u001b[0m\u001b[1;33m\u001b[0m\u001b[1;33m\u001b[0m\u001b[0m\n\u001b[0;32m    142\u001b[0m         \u001b[0merrorclass\u001b[0m \u001b[1;33m=\u001b[0m \u001b[0mInternalError\u001b[0m \u001b[1;32mif\u001b[0m \u001b[0merrno\u001b[0m \u001b[1;33m<\u001b[0m \u001b[1;36m1000\u001b[0m \u001b[1;32melse\u001b[0m \u001b[0mOperationalError\u001b[0m\u001b[1;33m\u001b[0m\u001b[1;33m\u001b[0m\u001b[0m\n\u001b[1;32m--> 143\u001b[1;33m     \u001b[1;32mraise\u001b[0m \u001b[0merrorclass\u001b[0m\u001b[1;33m(\u001b[0m\u001b[0merrno\u001b[0m\u001b[1;33m,\u001b[0m \u001b[0merrval\u001b[0m\u001b[1;33m)\u001b[0m\u001b[1;33m\u001b[0m\u001b[1;33m\u001b[0m\u001b[0m\n\u001b[0m",
      "\u001b[1;31mOperationalError\u001b[0m: (1060, \"Duplicate column name 'email'\")"
     ]
    }
   ],
   "source": [
    "cur.execute('alter table users add column email varchar(40);')\n",
    "# email 이미 있는 상태이기때문에 에러나 감"
   ]
  },
  {
   "source": [
    "- 데이터 입력"
   ],
   "cell_type": "markdown",
   "metadata": {}
  },
  {
   "cell_type": "code",
   "execution_count": 9,
   "metadata": {},
   "outputs": [
    {
     "output_type": "execute_result",
     "data": {
      "text/plain": [
       "1"
      ]
     },
     "metadata": {},
     "execution_count": 9
    }
   ],
   "source": [
    "cur = conn.cursor()\n",
    "cur.execute(\"INSERT INTO users(uid,uname) VALUES('admin','관리자');\")     # 파이썬에서는  Mysql \"\"을 사용 / 하이디sql에서는 '' 사용"
   ]
  },
  {
   "cell_type": "code",
   "execution_count": 10,
   "metadata": {},
   "outputs": [
    {
     "output_type": "stream",
     "name": "stdout",
     "text": [
      "('admin', None, '관리자', datetime.datetime(2021, 6, 9, 10, 53, 44), 0, None)\n"
     ]
    }
   ],
   "source": [
    "cur.execute('select * from users;')\n",
    "rows = cur.fetchall()\n",
    "for row in rows:\n",
    "    print(row)"
   ]
  },
  {
   "cell_type": "code",
   "execution_count": 11,
   "metadata": {},
   "outputs": [],
   "source": [
    "# 입력한 데이터를 즉시 flush하려면 conn.commit() 추가\n",
    "sql_insert_multi = \"\"\"\n",
    "    INSERT INTO users(uid,uname)\n",
    "        VALUES('eskim','김은숙'),('wjlee','이우정');\n",
    "\"\"\"\n",
    "cur.execute(sql_insert_multi)\n",
    "conn.commit()           # 플러싱 해주는 역할 "
   ]
  },
  {
   "cell_type": "code",
   "execution_count": 13,
   "metadata": {},
   "outputs": [
    {
     "output_type": "stream",
     "name": "stdout",
     "text": [
      "('admin', '관리자', '2021-06-09 10:53', 0, None)\n('eskim', '김은숙', '2021-06-09 10:55', 0, None)\n('wjlee', '이우정', '2021-06-09 10:55', 0, None)\n"
     ]
    }
   ],
   "source": [
    "# reg_date는 저걸만든 현재 시간!\n",
    "\n",
    "sql_select = \"\"\"\n",
    "    SELECT uid,uname,DATE_FORMAT(reg_date,'%Y-%m-%d %h:%i') AS reg_date,\n",
    "  is_deleted, email FROM users;\n",
    "\"\"\"\n",
    "cur.execute(sql_select)\n",
    "rows = cur.fetchall()\n",
    "for row in rows:\n",
    "    print(row)"
   ]
  },
  {
   "cell_type": "code",
   "execution_count": 16,
   "metadata": {},
   "outputs": [],
   "source": [
    "# 파라메터 이용, placeholder\n",
    "uid = 'djy'\n",
    "uname = '대조영'\n",
    "cur = conn.cursor()\n",
    "sql = \"INSERT INTO users(uid,uname) VALUES(%s,%s);\"   # (%s,%s) 가 플레이스홀더\n",
    "cur.execute(sql, (uid,uname))   # 플레이스홀더하고 여기에 데이터입력\n",
    "conn.commit()   # 한줄단위로 데이터를 입력해서 출력한다"
   ]
  },
  {
   "cell_type": "code",
   "execution_count": 17,
   "metadata": {},
   "outputs": [],
   "source": [
    "# uid 하나만 있는경우\n",
    "uid = 'gdhong'\n",
    "cur = conn.cursor()\n",
    "sql = \"INSERT INTO users(uid,uname) VALUES(%s, '홍길동');\"\n",
    "cur.execute(sql, (uid,))  # 튜플이기때문에 ()안에 uid를 넣어줘야한다,,,,\n",
    "conn.commit()  "
   ]
  },
  {
   "cell_type": "code",
   "execution_count": 20,
   "metadata": {},
   "outputs": [],
   "source": [
    "users = (('jbpark','박재범'),('vincenzo','빈센조'))\n",
    "cur = conn.cursor()\n",
    "sql = \"INSERT INTO users(uid,uname) VALUES(%s, %s);\"\n",
    "# 아래 for문은 cur.executemany(sql,user)로 대체 가능하지만 for문 사용을 추천!\n",
    "for user in users:\n",
    "    cur.execute(sql, user)\n",
    "conn.commit() "
   ]
  },
  {
   "source": [
    "- 데이터 삭제"
   ],
   "cell_type": "markdown",
   "metadata": {}
  },
  {
   "cell_type": "code",
   "execution_count": 21,
   "metadata": {},
   "outputs": [],
   "source": [
    "cur = conn.cursor()\n",
    "sql = \"DELETE FROM users WHERE uid != 'admin';\"\n",
    "cur.execute(sql)\n",
    "conn.commit()  "
   ]
  },
  {
   "source": [
    "- 판다스로 데이터프레임 만들기"
   ],
   "cell_type": "markdown",
   "metadata": {}
  },
  {
   "cell_type": "code",
   "execution_count": 22,
   "metadata": {},
   "outputs": [
    {
     "output_type": "execute_result",
     "data": {
      "text/plain": [
       "        uid uname\n",
       "0       djy   대조영\n",
       "1     eskim   김은숙\n",
       "2    gdhong   홍길동\n",
       "3    jbpark   박재범\n",
       "4  vincenzo   빈센조\n",
       "5     wjlee   이우정"
      ],
      "text/html": "<div>\n<style scoped>\n    .dataframe tbody tr th:only-of-type {\n        vertical-align: middle;\n    }\n\n    .dataframe tbody tr th {\n        vertical-align: top;\n    }\n\n    .dataframe thead th {\n        text-align: right;\n    }\n</style>\n<table border=\"1\" class=\"dataframe\">\n  <thead>\n    <tr style=\"text-align: right;\">\n      <th></th>\n      <th>uid</th>\n      <th>uname</th>\n    </tr>\n  </thead>\n  <tbody>\n    <tr>\n      <th>0</th>\n      <td>djy</td>\n      <td>대조영</td>\n    </tr>\n    <tr>\n      <th>1</th>\n      <td>eskim</td>\n      <td>김은숙</td>\n    </tr>\n    <tr>\n      <th>2</th>\n      <td>gdhong</td>\n      <td>홍길동</td>\n    </tr>\n    <tr>\n      <th>3</th>\n      <td>jbpark</td>\n      <td>박재범</td>\n    </tr>\n    <tr>\n      <th>4</th>\n      <td>vincenzo</td>\n      <td>빈센조</td>\n    </tr>\n    <tr>\n      <th>5</th>\n      <td>wjlee</td>\n      <td>이우정</td>\n    </tr>\n  </tbody>\n</table>\n</div>"
     },
     "metadata": {},
     "execution_count": 22
    }
   ],
   "source": [
    "import pandas as pd\n",
    "uids = ['djy','eskim','gdhong','jbpark','vincenzo','wjlee']\n",
    "unames = ['대조영','김은숙','홍길동','박재범','빈센조','이우정']\n",
    "df = pd.DataFrame({'uid':uids, 'uname':unames})\n",
    "df"
   ]
  },
  {
   "cell_type": "code",
   "execution_count": 23,
   "metadata": {},
   "outputs": [],
   "source": [
    "cur = conn.cursor()\n",
    "sql = \"INSERT INTO users(uid,uname) VALUES(%s, %s);\"\n",
    "for i in df.index:\n",
    "    cur.execute(sql, (df.uid[i], df.uname[i]))\n",
    "conn.commit() "
   ]
  },
  {
   "source": [
    "- 데이터 수정"
   ],
   "cell_type": "markdown",
   "metadata": {}
  },
  {
   "cell_type": "code",
   "execution_count": 29,
   "metadata": {},
   "outputs": [],
   "source": [
    "# 관리자의 이메일 주소 바꾸기\n",
    "email = 'admin@korea.com'\n",
    "uid = 'admin'\n",
    "cur = conn.cursor()\n",
    "# sql = \"UPDATE users SET email='admin@korea.com' WHERE uid='admin';\"   # admin@korea.com','admin' 가 플레이스 홀더\n",
    "sql = \"UPDATE users SET email=%s WHERE uid=%s;\"\n",
    "cur.execute(sql, (email, uid))  # 순서가 중요!! 작성한 순서대로 써야한다\n",
    "conn.commit()  "
   ]
  },
  {
   "cell_type": "code",
   "execution_count": 30,
   "metadata": {},
   "outputs": [],
   "source": [
    "# 각 아이디마다 for문 사용하여 email 추가하기\n",
    "cur = conn.cursor()\n",
    "sql = \"UPDATE users SET email=%s WHERE uid=%s;\"\n",
    "for i in df.index:\n",
    "    uid = df.uid[i]\n",
    "    email = f'{uid}@email.com'\n",
    "    cur.execute(sql, (email,uid))\n",
    "conn.commit()  "
   ]
  },
  {
   "source": [
    "- 데이터 조회"
   ],
   "cell_type": "markdown",
   "metadata": {}
  },
  {
   "cell_type": "code",
   "execution_count": 33,
   "metadata": {},
   "outputs": [],
   "source": [
    "# is_deleted 가 0인 sql 생성\n",
    "sql = \"\"\"\n",
    "    SELECT uid,uname,email,\n",
    "    DATE_FORMAT(reg_date,'%Y-%m-%d %h:%i') AS reg_date\n",
    "    FROM users WHERE is_deleted=0;  \n",
    "\"\"\""
   ]
  },
  {
   "cell_type": "code",
   "execution_count": 34,
   "metadata": {},
   "outputs": [
    {
     "output_type": "execute_result",
     "data": {
      "text/plain": [
       "('admin', '관리자', 'admin@korea.com', '2021-06-09 10:53')"
      ]
     },
     "metadata": {},
     "execution_count": 34
    }
   ],
   "source": [
    "# 한 레코드 조회 \n",
    "cur = conn.cursor()\n",
    "cur.execute(sql)\n",
    "result = cur.fetchone()    # 읽기만 하는거\n",
    "result"
   ]
  },
  {
   "cell_type": "code",
   "execution_count": 35,
   "metadata": {},
   "outputs": [
    {
     "output_type": "execute_result",
     "data": {
      "text/plain": [
       "(('djy', '대조영', 'djy@email.com', '2021-06-09 11:31'),\n",
       " ('eskim', '김은숙', 'eskim@email.com', '2021-06-09 11:31'))"
      ]
     },
     "metadata": {},
     "execution_count": 35
    }
   ],
   "source": [
    "# n개의 레코드 조회\n",
    "cur.fetchmany(2)"
   ]
  },
  {
   "cell_type": "code",
   "execution_count": 36,
   "metadata": {},
   "outputs": [
    {
     "output_type": "stream",
     "name": "stdout",
     "text": [
      "('admin', '관리자', 'admin@korea.com', '2021-06-09 10:53')\n('djy', '대조영', 'djy@email.com', '2021-06-09 11:31')\n('eskim', '김은숙', 'eskim@email.com', '2021-06-09 11:31')\n('gdhong', '홍길동', 'gdhong@email.com', '2021-06-09 11:31')\n('jbpark', '박재범', 'jbpark@email.com', '2021-06-09 11:31')\n('vincenzo', '빈센조', 'vincenzo@email.com', '2021-06-09 11:31')\n('wjlee', '이우정', 'wjlee@email.com', '2021-06-09 11:31')\n"
     ]
    }
   ],
   "source": [
    "# 모두 조회\n",
    "cur = conn.cursor()\n",
    "cur.execute(sql)\n",
    "results = cur.fetchall()\n",
    "for row in results:\n",
    "    print(row)"
   ]
  },
  {
   "cell_type": "code",
   "execution_count": 37,
   "metadata": {},
   "outputs": [
    {
     "output_type": "execute_result",
     "data": {
      "text/plain": [
       "        uid uname               email               reg\n",
       "0     admin   관리자     admin@korea.com  2021-06-09 10:53\n",
       "1       djy   대조영       djy@email.com  2021-06-09 11:31\n",
       "2     eskim   김은숙     eskim@email.com  2021-06-09 11:31\n",
       "3    gdhong   홍길동    gdhong@email.com  2021-06-09 11:31\n",
       "4    jbpark   박재범    jbpark@email.com  2021-06-09 11:31\n",
       "5  vincenzo   빈센조  vincenzo@email.com  2021-06-09 11:31\n",
       "6     wjlee   이우정     wjlee@email.com  2021-06-09 11:31"
      ],
      "text/html": "<div>\n<style scoped>\n    .dataframe tbody tr th:only-of-type {\n        vertical-align: middle;\n    }\n\n    .dataframe tbody tr th {\n        vertical-align: top;\n    }\n\n    .dataframe thead th {\n        text-align: right;\n    }\n</style>\n<table border=\"1\" class=\"dataframe\">\n  <thead>\n    <tr style=\"text-align: right;\">\n      <th></th>\n      <th>uid</th>\n      <th>uname</th>\n      <th>email</th>\n      <th>reg</th>\n    </tr>\n  </thead>\n  <tbody>\n    <tr>\n      <th>0</th>\n      <td>admin</td>\n      <td>관리자</td>\n      <td>admin@korea.com</td>\n      <td>2021-06-09 10:53</td>\n    </tr>\n    <tr>\n      <th>1</th>\n      <td>djy</td>\n      <td>대조영</td>\n      <td>djy@email.com</td>\n      <td>2021-06-09 11:31</td>\n    </tr>\n    <tr>\n      <th>2</th>\n      <td>eskim</td>\n      <td>김은숙</td>\n      <td>eskim@email.com</td>\n      <td>2021-06-09 11:31</td>\n    </tr>\n    <tr>\n      <th>3</th>\n      <td>gdhong</td>\n      <td>홍길동</td>\n      <td>gdhong@email.com</td>\n      <td>2021-06-09 11:31</td>\n    </tr>\n    <tr>\n      <th>4</th>\n      <td>jbpark</td>\n      <td>박재범</td>\n      <td>jbpark@email.com</td>\n      <td>2021-06-09 11:31</td>\n    </tr>\n    <tr>\n      <th>5</th>\n      <td>vincenzo</td>\n      <td>빈센조</td>\n      <td>vincenzo@email.com</td>\n      <td>2021-06-09 11:31</td>\n    </tr>\n    <tr>\n      <th>6</th>\n      <td>wjlee</td>\n      <td>이우정</td>\n      <td>wjlee@email.com</td>\n      <td>2021-06-09 11:31</td>\n    </tr>\n  </tbody>\n</table>\n</div>"
     },
     "metadata": {},
     "execution_count": 37
    }
   ],
   "source": [
    "# 모두 조회한 뒤 데이터프레임으로 만들기\n",
    "# 빈리스트 만들고 for loop안에서 데이터 넣어주고 맨마지막 list에 append 하는것!!!!!!!!!!!!!!!!!!!!!!!!!!!!!!!!!!!!!!!!!!!!!!!!!!! 좀외우셈 모두 조회한 뒤 데이터프레임으로 만들기\n",
    "# 빈리스트 만들고 for loop안에서 데이터 넣어주고 맨마지막 list에 append 하는것!!!!!!!!!!!!!!!!!!!!!!!!!!!!!!!!!!!!!!!!!!!!!!!!!!! 좀외우셈\n",
    "\n",
    "uids, unames, emails, regs = [],[],[],[]\n",
    "for row in results:\n",
    "    uids.append(row[0])\n",
    "        unames.append(row[1])\n",
    "            emails.append(row[2])\n",
    "                regs.append(row[3])\n",
    "                \n",
    "\n",
    "uids, unames, emails, regs = [],[],[],[]\n",
    "for row in results:\n",
    "    uids.append(row[0])\n",
    "    unames.append(row[1])\n",
    "    emails.append(row[2])\n",
    "    regs.append(row[3])\n",
    "\n",
    "df2 = pd.DataFrame({\n",
    "    'uid': uids, 'uname': unames, 'email': emails, 'reg': regs\n",
    "})\n",
    "df2"
   ]
  },
  {
   "source": [
    "- 데이터 검색"
   ],
   "cell_type": "markdown",
   "metadata": {}
  },
  {
   "cell_type": "code",
   "execution_count": 39,
   "metadata": {},
   "outputs": [],
   "source": [
    "# uid 하나만 뽑는다\n",
    "keyword = '김'\n",
    "sql = \"\"\"\n",
    "    SELECT uid                              \n",
    "    FROM users\n",
    "    WHERE is_deleted=0 and uname like %s;\n",
    "    \"\"\""
   ]
  },
  {
   "cell_type": "code",
   "execution_count": 40,
   "metadata": {},
   "outputs": [
    {
     "output_type": "execute_result",
     "data": {
      "text/plain": [
       "('eskim',)"
      ]
     },
     "metadata": {},
     "execution_count": 40
    }
   ],
   "source": [
    "# 결과가 하나라도 튜플로 데이터를 반환  / fetchone 사용 결과가 하나라도 튜플로 데이터를 반환  / fetchone 사용\n",
    "cur = conn.cursor()\n",
    "cur.execute(sql, keyword+'%')   # keyword에 와일드캐릭터를 붙여줘야함, keyword는 '김'으로만 되어있기때문?\n",
    "result = cur.fetchone()\n",
    "result      # ex) uid 하나만 뽑았는데도 결과가 ('eskim',) 튜플로 나옴\n",
    "cur = conn.cursor()\n",
    "cur.execute(sql, keyword+'%')   # keyword에 와일드캐릭터를 붙여줘야함, keyword는 '김'으로만 되어있기때문?\n",
    "result = cur.fetchone()\n",
    "result      # ex) uid 하나만 뽑았는데도 결과가 ('eskim',) 튜플로 나옴"
   ]
  },
  {
   "cell_type": "code",
   "execution_count": 41,
   "metadata": {},
   "outputs": [
    {
     "output_type": "execute_result",
     "data": {
      "text/plain": [
       "'eskim'"
      ]
     },
     "metadata": {},
     "execution_count": 41
    }
   ],
   "source": [
    "result[0]"
   ]
  },
  {
   "cell_type": "code",
   "execution_count": 42,
   "metadata": {},
   "outputs": [
    {
     "output_type": "execute_result",
     "data": {
      "text/plain": [
       "(('eskim',),)"
      ]
     },
     "metadata": {},
     "execution_count": 42
    }
   ],
   "source": [
    "# fetchall 을 사용하면 튜플, 튜플\n",
    "cur = conn.cursor()\n",
    "cur.execute(sql, keyword+'%') \n",
    "result = cur.fetchall()\n",
    "result     "
   ]
  },
  {
   "cell_type": "code",
   "execution_count": 43,
   "metadata": {},
   "outputs": [
    {
     "output_type": "execute_result",
     "data": {
      "text/plain": [
       "'eskim'"
      ]
     },
     "metadata": {},
     "execution_count": 43
    }
   ],
   "source": [
    "result[0][0]"
   ]
  },
  {
   "cell_type": "code",
   "execution_count": 44,
   "metadata": {},
   "outputs": [],
   "source": [
    "# 다끝났으면 마지막 마무리로 써줘야함\n",
    "cur.close()\n",
    "conn.close()"
   ]
  },
  {
   "cell_type": "code",
   "execution_count": null,
   "metadata": {},
   "outputs": [],
   "source": []
  }
 ]
}