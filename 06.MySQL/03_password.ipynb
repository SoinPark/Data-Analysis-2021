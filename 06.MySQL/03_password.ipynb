{
 "metadata": {
  "language_info": {
   "codemirror_mode": {
    "name": "ipython",
    "version": 3
   },
   "file_extension": ".py",
   "mimetype": "text/x-python",
   "name": "python",
   "nbconvert_exporter": "python",
   "pygments_lexer": "ipython3",
   "version": "3.8.5"
  },
  "orig_nbformat": 2,
  "kernelspec": {
   "name": "python385jvsc74a57bd08c1eae21719a0790335dcb83aad72b63b602cfe5cdb2bda0f60bc11d4f154e4b",
   "display_name": "Python 3.8.5 64-bit ('base': conda)"
  }
 },
 "nbformat": 4,
 "nbformat_minor": 2,
 "cells": [
  {
   "source": [
    "# users table에 패스워드 넣기"
   ],
   "cell_type": "markdown",
   "metadata": {}
  },
  {
   "cell_type": "code",
   "execution_count": 39,
   "metadata": {},
   "outputs": [],
   "source": [
    "import json\n",
    "import pymysql"
   ]
  },
  {
   "cell_type": "code",
   "execution_count": 40,
   "metadata": {},
   "outputs": [
    {
     "output_type": "execute_result",
     "data": {
      "text/plain": [
       "'{\\n    \"host\": \"localhost\",\\n    \"user\": \"hkuser\",\\n    \"password\": \"hkpass\",\\n    \"database\": \"world\",\\n    \"port\": 3306\\n}'"
      ]
     },
     "metadata": {},
     "execution_count": 40
    }
   ],
   "source": [
    "with open('mysql.json','r') as file:\n",
    "    config_str = file.read()\n",
    "config_str"
   ]
  },
  {
   "cell_type": "code",
   "execution_count": 41,
   "metadata": {},
   "outputs": [
    {
     "output_type": "execute_result",
     "data": {
      "text/plain": [
       "{'host': 'localhost',\n",
       " 'user': 'hkuser',\n",
       " 'password': 'hkpass',\n",
       " 'database': 'world',\n",
       " 'port': 3306}"
      ]
     },
     "metadata": {},
     "execution_count": 41
    }
   ],
   "source": [
    "config = json.loads(config_str)\n",
    "config"
   ]
  },
  {
   "cell_type": "code",
   "execution_count": 42,
   "metadata": {},
   "outputs": [],
   "source": [
    "conn = pymysql.connect(            \n",
    "    host = config['host'],\n",
    "    user = config['user'],\n",
    "    password = config['password'],\n",
    "    database =  config['database'],\n",
    "    port =  config['port']\n",
    ")"
   ]
  },
  {
   "source": [
    "- 패스워드 암호화"
   ],
   "cell_type": "markdown",
   "metadata": {}
  },
  {
   "cell_type": "code",
   "execution_count": 43,
   "metadata": {},
   "outputs": [],
   "source": [
    "# 파이썬에서 기본으로 제고하는 모듈 활용\n",
    "import hashlib\n",
    "import base64"
   ]
  },
  {
   "source": [
    "- Secure Hash Algorithm(SHA-256) : 단방향 알고리즘"
   ],
   "cell_type": "markdown",
   "metadata": {}
  },
  {
   "cell_type": "code",
   "execution_count": 44,
   "metadata": {},
   "outputs": [
    {
     "output_type": "execute_result",
     "data": {
      "text/plain": [
       "b'\\x03\\xacgB\\x16\\xf3\\xe1\\\\v\\x1e\\xe1\\xa5\\xe2U\\xf0g\\x956#\\xc8\\xb3\\x88\\xb4E\\x9e\\x13\\xf9x\\xd7\\xc8F\\xf4'"
      ]
     },
     "metadata": {},
     "execution_count": 44
    }
   ],
   "source": [
    "pwd = '1234'\n",
    "pwd_sha256 = hashlib.sha256(pwd.encode())\n",
    "pwd_sha256.digest()"
   ]
  },
  {
   "source": [
    "- Base64로 인코딩"
   ],
   "cell_type": "markdown",
   "metadata": {}
  },
  {
   "cell_type": "code",
   "execution_count": 45,
   "metadata": {},
   "outputs": [
    {
     "output_type": "execute_result",
     "data": {
      "text/plain": [
       "b'A6xnQhbz4Vx2HuGl4lXwZ5U2I8iziLRFnhP5eNfIRvQ='"
      ]
     },
     "metadata": {},
     "execution_count": 45
    }
   ],
   "source": [
    "base64.b64encode(pwd_sha256.digest())"
   ]
  },
  {
   "cell_type": "code",
   "execution_count": 46,
   "metadata": {},
   "outputs": [
    {
     "output_type": "execute_result",
     "data": {
      "text/plain": [
       "'A6xnQhbz4Vx2HuGl4lXwZ5U2I8iziLRFnhP5eNfIRvQ='"
      ]
     },
     "metadata": {},
     "execution_count": 46
    }
   ],
   "source": [
    "hashed_pwd = base64.b64encode(pwd_sha256.digest()).decode('utf-8')\n",
    "hashed_pwd"
   ]
  },
  {
   "cell_type": "code",
   "execution_count": 47,
   "metadata": {},
   "outputs": [
    {
     "output_type": "execute_result",
     "data": {
      "text/plain": [
       "44"
      ]
     },
     "metadata": {},
     "execution_count": 47
    }
   ],
   "source": [
    "len(hashed_pwd)"
   ]
  },
  {
   "cell_type": "code",
   "execution_count": 48,
   "metadata": {},
   "outputs": [],
   "source": [
    "# 패스워드를 생성하는 함수만들기\n",
    "def gen_pwd(pwd):\n",
    "    pwd_sha256 = hashlib.sha256(pwd.encode())\n",
    "    hashed_pwd = base64.b64encode(pwd_sha256.digest()).decode('utf-8')\n",
    "    return hashed_pwd"
   ]
  },
  {
   "source": [
    "### users table을 읽어서 pwd 열에 패스워드를 채우기"
   ],
   "cell_type": "markdown",
   "metadata": {}
  },
  {
   "cell_type": "code",
   "execution_count": 49,
   "metadata": {},
   "outputs": [
    {
     "output_type": "execute_result",
     "data": {
      "text/plain": [
       "(('admin',),\n",
       " ('djy',),\n",
       " ('eskim',),\n",
       " ('gdhong',),\n",
       " ('jbpark',),\n",
       " ('vincenzo',),\n",
       " ('wjlee',))"
      ]
     },
     "metadata": {},
     "execution_count": 49
    }
   ],
   "source": [
    "sql = 'SELECT uid FROM users;'\n",
    "cur = conn.cursor()\n",
    "cur.execute(sql)\n",
    "results = cur.fetchall()\n",
    "results"
   ]
  },
  {
   "cell_type": "code",
   "execution_count": 50,
   "metadata": {},
   "outputs": [],
   "source": [
    "# uid+'12' 한 password 생성\n",
    "sql = 'UPDATE users SET pwd=%s where uid=%s;'\n",
    "cur = conn.cursor()\n",
    "for row in results:\n",
    "    uid = row[0]\n",
    "    pwd = gen_pwd(uid+'12')             # 비밀번호열에 12추가  \n",
    "    cur.execute(sql, (pwd, uid))        # 파라미터에 pwd, uid를 준다\n",
    "conn.commit()"
   ]
  },
  {
   "source": [
    "### 로그인"
   ],
   "cell_type": "markdown",
   "metadata": {}
  },
  {
   "source": [
    "- 1) uid OK, pwd OK"
   ],
   "cell_type": "markdown",
   "metadata": {}
  },
  {
   "cell_type": "code",
   "execution_count": 51,
   "metadata": {},
   "outputs": [
    {
     "output_type": "execute_result",
     "data": {
      "text/plain": [
       "'EUZjqxlO3LP2HUCYg85K5sPC+YVBlAlaU4UBHRW+y+8='"
      ]
     },
     "metadata": {},
     "execution_count": 51
    }
   ],
   "source": [
    "uid, pwd = 'admin', 'admin12'\n",
    "sql = \"SELECT uid, pwd FROM users WHERE uid=%s;\"\n",
    "cur = conn.cursor()\n",
    "cur.execute(sql, (uid,))\n",
    "result = cur.fetchone()     # 하나만 가져오기, 첫번쨰데이터는 uid값\n",
    "db_pwd = result[1]          # 두번째 element 뽑음\n",
    "db_pwd"
   ]
  },
  {
   "cell_type": "code",
   "execution_count": 52,
   "metadata": {},
   "outputs": [
    {
     "output_type": "execute_result",
     "data": {
      "text/plain": [
       "'EUZjqxlO3LP2HUCYg85K5sPC+YVBlAlaU4UBHRW+y+8='"
      ]
     },
     "metadata": {},
     "execution_count": 52
    }
   ],
   "source": [
    "# hashed password 구하기\n",
    "# 위와 아래 결과가 같은경우\n",
    "hashed_pwd = gen_pwd(pwd)\n",
    "hashed_pwd"
   ]
  },
  {
   "source": [
    "- 2) uid OK, pwd BAD"
   ],
   "cell_type": "markdown",
   "metadata": {}
  },
  {
   "cell_type": "code",
   "execution_count": 53,
   "metadata": {},
   "outputs": [
    {
     "output_type": "execute_result",
     "data": {
      "text/plain": [
       "'A6xnQhbz4Vx2HuGl4lXwZ5U2I8iziLRFnhP5eNfIRvQ='"
      ]
     },
     "metadata": {},
     "execution_count": 53
    }
   ],
   "source": [
    "pwd = '1234'\n",
    "hashed_pwd = gen_pwd(pwd)\n",
    "hashed_pwd\n",
    "# pwd 가 다르다"
   ]
  },
  {
   "source": [
    "- 3) uid BAD"
   ],
   "cell_type": "markdown",
   "metadata": {}
  },
  {
   "cell_type": "code",
   "execution_count": 54,
   "metadata": {},
   "outputs": [],
   "source": [
    "uid = 'fool'"
   ]
  },
  {
   "cell_type": "code",
   "execution_count": 55,
   "metadata": {},
   "outputs": [
    {
     "output_type": "execute_result",
     "data": {
      "text/plain": [
       "0"
      ]
     },
     "metadata": {},
     "execution_count": 55
    }
   ],
   "source": [
    "sql = \"SELECT uid, pwd FROM users WHERE uid=%s;\"\n",
    "cur = conn.cursor()\n",
    "cur.execute(sql, (uid,))"
   ]
  },
  {
   "cell_type": "code",
   "execution_count": 56,
   "metadata": {},
   "outputs": [],
   "source": [
    "result = cur.fetchone()"
   ]
  },
  {
   "cell_type": "code",
   "execution_count": 57,
   "metadata": {},
   "outputs": [],
   "source": [
    "result              # 확인결과 result에 아무것도 없음"
   ]
  },
  {
   "source": [
    "- 1),2),3)을 하나로 합치기"
   ],
   "cell_type": "markdown",
   "metadata": {}
  },
  {
   "cell_type": "code",
   "execution_count": 58,
   "metadata": {},
   "outputs": [],
   "source": [
    "# uid랑 pwd를 다른거로 바꾸면 밑에 결과가 달라진다 uid랑 pwd를 다른거로 바꾸면 밑에 결과가 달라진다\n",
    "uid, pwd = 'admin','admin12'           "
   ]
  },
  {
   "cell_type": "code",
   "execution_count": 59,
   "metadata": {},
   "outputs": [
    {
     "output_type": "stream",
     "name": "stdout",
     "text": [
      "correct\n"
     ]
    }
   ],
   "source": [
    "sql = \"SELECT uid, pwd FROM users WHERE uid=%s and is_deleted=0;\"\n",
    "cur = conn.cursor()\n",
    "cur.execute(sql, (uid,))\n",
    "result = cur.fetchone()\n",
    "if result:\n",
    "    db_pwd = result[1]\n",
    "    hashed_pwd = gen_pwd(pwd)\n",
    "    if db_pwd == hashed_pwd:\n",
    "        print('correct')\n",
    "    else:\n",
    "        print('incorrect password')\n",
    "else:\n",
    "    print('bad uid')"
   ]
  },
  {
   "cell_type": "code",
   "execution_count": 60,
   "metadata": {},
   "outputs": [
    {
     "output_type": "stream",
     "name": "stdout",
     "text": [
      "correct\n"
     ]
    }
   ],
   "source": [
    "cur = conn.cursor()\n",
    "cur.execute(sql, (uid,))\n",
    "result = cur.fetchone()\n",
    "try:\n",
    "    db_pwd = result[1]\n",
    "    hashed_pwd = gen_pwd(pwd)\n",
    "    if db_pwd == hashed_pwd:\n",
    "        print('correct')\n",
    "    else:\n",
    "        print('incorrect password')\n",
    "except:\n",
    "    print('bad uid')"
   ]
  },
  {
   "cell_type": "code",
   "execution_count": 61,
   "metadata": {},
   "outputs": [],
   "source": [
    "# 다끝났으면 마지막 마무리로 써줘야함\n",
    "cur.close()\n",
    "conn.close()"
   ]
  }
 ]
}